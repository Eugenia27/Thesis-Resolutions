{
 "metadata": {
  "name": "",
  "signature": "sha256:25d86ea6c7c7c03ec3e9dad030fcee34b51471829ac17f85915802bf7345e215"
 },
 "nbformat": 3,
 "nbformat_minor": 0,
 "worksheets": [
  {
   "cells": [
    {
     "cell_type": "code",
     "collapsed": false,
     "input": [
      "import numpy as np\n",
      "import matplotlib as mpl\n",
      "import matplotlib.pyplot as plt \n",
      "from scipy.optimize import curve_fit\n",
      "import scipy.optimize as optimize\n",
      "from matplotlib.ticker import NullFormatter,MultipleLocator, FormatStrFormatter\n",
      "from matplotlib.offsetbox import AnchoredText\n",
      "import os"
     ],
     "language": "python",
     "metadata": {},
     "outputs": [],
     "prompt_number": 1
    },
    {
     "cell_type": "code",
     "collapsed": false,
     "input": [
      "def sersic_caon_ie(r,ie,re,beta):\n",
      "    return ie*10**(-(0.868/beta-0.142)*((r/re)**beta-1))"
     ],
     "language": "python",
     "metadata": {},
     "outputs": [],
     "prompt_number": 11
    },
    {
     "cell_type": "code",
     "collapsed": false,
     "input": [
      "def sersic_caon_mue(r,mue,re,beta):\n",
      "    return mue + 2.5*(0.868/beta-0.142)*((r/re)**beta -1)"
     ],
     "language": "python",
     "metadata": {},
     "outputs": [],
     "prompt_number": 12
    },
    {
     "cell_type": "code",
     "collapsed": false,
     "input": [
      "def mu(_ie):\n",
      "    return -2.5*np.log10(_ie)-48.6 -0.044"
     ],
     "language": "python",
     "metadata": {},
     "outputs": [],
     "prompt_number": 13
    },
    {
     "cell_type": "code",
     "collapsed": false,
     "input": [
      "m091,rmu24_091      = np.loadtxt('091band125.txt',usecols=[3,4], unpack=True)\n",
      "m041,rmu24_041      = np.loadtxt('041band125.txt',usecols=[3,4], unpack=True)"
     ],
     "language": "python",
     "metadata": {},
     "outputs": [],
     "prompt_number": 14
    },
    {
     "cell_type": "code",
     "collapsed": false,
     "input": [
      "#defino los vectores de distancia radial y brillo superficial de cada regi\u00f3n, para cada redshift.\n",
      "limite_oficial = 80\n",
      "n_tot_regiones = 30\n",
      "banda = '125'\n",
      "\n",
      "r_041_reg   = np.zeros((n_tot_regiones,limite_oficial))\n",
      "r_091_reg   = np.zeros((n_tot_regiones,limite_oficial))\n",
      "i_041_reg  = np.zeros((n_tot_regiones,limite_oficial))\n",
      "i_091_reg  = np.zeros((n_tot_regiones,limite_oficial))\n",
      " \n",
      "\n",
      "for j in range(n_tot_regiones):\n",
      "    if j==0:\n",
      "        continue\n",
      "    with open('D'+str(j)+'/'+'041' +'/mean_ienlog'+banda+'.txt') as f:\n",
      "        lineas041 = len(f.readlines())\n",
      "    limite041 = lineas041 - limite_oficial \n",
      "    r_041_reg[j] = np.genfromtxt('D'+str(j)+'/'+'041' +'/mean_ienlog'+banda+'.txt', usecols=[0] , unpack=True,skip_footer= limite041)\n",
      "    i_041_reg[j] = np.genfromtxt('D'+str(j)+'/'+'041' +'/mean_ienlog'+banda+'.txt', usecols=[1] , unpack=True,skip_footer= limite041)\n",
      "\n",
      "for j in range(n_tot_regiones):\n",
      "    if j==0:\n",
      "        continue\n",
      "    with open('D'+str(j)+'/'+'091' +'/mean_ienlog'+banda+'.txt') as f:\n",
      "        lineas091 = len(f.readlines())\n",
      "    limite091 = lineas091 - limite_oficial \n",
      "    r_091_reg[j] = np.genfromtxt('D'+str(j)+'/'+'091' +'/mean_ienlog'+banda+'.txt', usecols=[0] , unpack=True,skip_footer= limite091)\n",
      "    i_091_reg[j] = np.genfromtxt('D'+str(j)+'/'+'091' +'/mean_ienlog'+banda+'.txt', usecols=[1] , unpack=True,skip_footer= limite091)"
     ],
     "language": "python",
     "metadata": {},
     "outputs": [],
     "prompt_number": 15
    },
    {
     "cell_type": "code",
     "collapsed": false,
     "input": [
      "from matplotlib.offsetbox import AnchoredText\n",
      "\n",
      "plt.rc('text', usetex=True)\n",
      "font = {'family': 'serif', 'size': 40, 'serif': ['computer modern roman']}\n",
      "plt.rc('font', **font)\n",
      "plt.rc('legend', **{'fontsize': 40}) \n",
      "plt.rcParams['text.latex.preamble'] = [r'\\usepackage{amsmath}']\n",
      "\n",
      "plt.rcParams['axes.linewidth'] = 1.0\n",
      "plt.rcParams['xtick.major.size'] = 8\n",
      "plt.rcParams['xtick.minor.size'] = 4\n",
      "plt.rcParams['ytick.major.size'] = 6\n",
      "plt.rcParams['ytick.minor.size'] = 3\n",
      "mpl.rc('lines', linewidth=3)"
     ],
     "language": "python",
     "metadata": {},
     "outputs": [],
     "prompt_number": 16
    },
    {
     "cell_type": "code",
     "collapsed": false,
     "input": [
      "#Hago ajustes 1componente de Sersic. Comentar Linea que guarda resultados en caso de no querer modificar los ya obtenidos \n",
      "#Los ajuste estan hechos dentro de Rmu24\n",
      "os.remove('ajustes_acotados_z0.txt')\n",
      "ajustes = open('ajustes_acotados_z0.txt','a')\n",
      "for i in range(30):\n",
      "    if i == 0: #or i == 8 or i == 9 or i == 12 or i == 13 or i == 16 or i == 20 or i == 28 or i == 29:\n",
      "        continue\n",
      "    if i>1:\n",
      "        break\n",
      "    elif i==8 :\n",
      "        index = next(x[0] for x in enumerate(r_091_reg[i]) if x[1] > rmu24_091[i-1])\n",
      "        xdata = r_091_reg[i][1:index+1]\n",
      "        ydata = i_091_reg[i][1:index+1]\n",
      "        p=[3e-18,30,0.1]\n",
      "        popt, pcov = curve_fit(sersic_caon_ie, xdata, ydata,p) \n",
      "    elif i==9 :\n",
      "        index = next(x[0] for x in enumerate(r_091_reg[i]) if x[1] > rmu24_091[i-1])\n",
      "        xdata = r_091_reg[i][2:index+1]\n",
      "        ydata = i_091_reg[i][2:index+1]\n",
      "        p=[1e-18,50,0.2]\n",
      "        popt, pcov = curve_fit(sersic_caon_ie, xdata, ydata,p) \n",
      "    elif i==12 :\n",
      "        index = next(x[0] for x in enumerate(r_091_reg[i]) if x[1] > rmu24_091[i-1])\n",
      "        xdata = r_091_reg[i][1:index+1]\n",
      "        ydata = i_091_reg[i][1:index+1]\n",
      "        p=[1e-18,10,0.1]\n",
      "        popt, pcov = curve_fit(sersic_caon_ie, xdata, ydata,p)        \n",
      "    elif i==20 :\n",
      "        index = next(x[0] for x in enumerate(r_091_reg[i]) if x[1] > rmu24_091[i-1])\n",
      "        xdata = r_091_reg[i][1:index+1]\n",
      "        ydata = i_091_reg[i][1:index+1]\n",
      "        p=[1*1e-18,30,0.1]\n",
      "        popt, pcov = curve_fit(sersic_caon_ie, xdata, ydata,p)\n",
      "    elif i==28:\n",
      "        index = next(x[0] for x in enumerate(r_091_reg[i]) if x[1] > rmu24_091[i-1])\n",
      "        xdata = r_091_reg[i][3:index+1]\n",
      "        ydata = i_091_reg[i][3:index+1]\n",
      "        p=[5e-18,30,0.15]\n",
      "        popt, pcov = curve_fit(sersic_caon_ie, xdata, ydata,p)         \n",
      "    elif i==29:\n",
      "        index = next(x[0] for x in enumerate(r_091_reg[i]) if x[1] > rmu24_091[i-1])\n",
      "        xdata = r_091_reg[i][1:index+1]\n",
      "        ydata = i_091_reg[i][1:index+1]\n",
      "        p=[1e-18,30,0.24]\n",
      "        popt, pcov = curve_fit(sersic_caon_ie, xdata, ydata,p) \n",
      "    else:    \n",
      "        index =  next(x[0] for x in enumerate(r_091_reg[i]) if x[1] > rmu24_091[i-1])\n",
      "        xdata = r_091_reg[i][1:index+1]\n",
      "        ydata = i_091_reg[i][1:index+1]\n",
      "        p=[1e-18,100,0.24]\n",
      "        popt, pcov = curve_fit(sersic_caon_ie, xdata, ydata,p)    \n",
      "    if i>26:\n",
      "        print i\n",
      "    ajustes.write('{ie:9.3g} {re:9.3g} {n:9.3g} {errmue:9.3g} {errre:9.3g} {errn:9.3g}\\n'.format(ie=popt[0], re=popt[1], n=popt[2],\n",
      "    errmue=pcov[0][0], errre=pcov[1][1], errn=pcov[2][2]))\n",
      "\n",
      "ajustes.close() "
     ],
     "language": "python",
     "metadata": {},
     "outputs": [],
     "prompt_number": 25
    },
    {
     "cell_type": "code",
     "collapsed": false,
     "input": [
      "ie,re,beta = np.loadtxt('ajustes_acotados_z0.txt',usecols=[0,1,2] ,unpack=True)#, skiprows=1)"
     ],
     "language": "python",
     "metadata": {},
     "outputs": [],
     "prompt_number": 21
    },
    {
     "cell_type": "code",
     "collapsed": false,
     "input": [
      "#1.21e-18        65      0.48\n",
      "r_fit=np.linspace(0,150,100)\n",
      "y_ie  = sersic_caon_ie(r_fit, ie ,re,beta)\n",
      "fig = plt.figure(figsize=(7,7))\n",
      "ax1 = fig.add_subplot(111)\n",
      "ax1.set_ylim(np.min( i_091_reg[1][1:70]),np.max( i_091_reg[1][1:70]))\n",
      "ax1.scatter( r_091_reg[1][1:70], i_091_reg[1][1:70], label='mu(ietabla)',color='red')\n",
      "ax1.plot(r_fit,y_ie, label='mucaon', color='green')\n",
      "ax1.legend(loc='upper right', frameon=False, scatterpoints=1,borderpad=0.1, labelspacing=0)\n",
      "ax1.set_xlim(0,130)\n",
      "plt.show()"
     ],
     "language": "python",
     "metadata": {},
     "outputs": [
      {
       "output_type": "stream",
       "stream": "stderr",
       "text": [
        "/usr/lib64/python2.7/site-packages/matplotlib/collections.py:590: FutureWarning: elementwise comparison failed; returning scalar instead, but in the future will perform elementwise comparison\n",
        "  if self._edgecolors == str('face'):\n"
       ]
      }
     ],
     "prompt_number": 23
    },
    {
     "cell_type": "code",
     "collapsed": false,
     "input": [],
     "language": "python",
     "metadata": {},
     "outputs": []
    }
   ],
   "metadata": {}
  }
 ]
}