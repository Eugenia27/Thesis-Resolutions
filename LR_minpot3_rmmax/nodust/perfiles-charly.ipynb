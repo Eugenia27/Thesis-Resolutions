{
 "metadata": {
  "name": "",
  "signature": "sha256:6db9e795f91f54f80e3b00273bc12a28f3d7b9ec9bf924c55f6e910de3ca7f2b"
 },
 "nbformat": 3,
 "nbformat_minor": 0,
 "worksheets": [
  {
   "cells": [
    {
     "cell_type": "code",
     "collapsed": false,
     "input": [
      "import numpy as np\n",
      "import matplotlib as mpl\n",
      "import matplotlib.pyplot as plt \n",
      "from scipy.optimize import curve_fit\n",
      "import scipy.optimize as optimize\n",
      "from matplotlib.ticker import NullFormatter,MultipleLocator, FormatStrFormatter\n",
      "from matplotlib.offsetbox import AnchoredText\n",
      "import os"
     ],
     "language": "python",
     "metadata": {},
     "outputs": [],
     "prompt_number": 1
    },
    {
     "cell_type": "code",
     "collapsed": false,
     "input": [
      "def sersic_charly_ie(r,ie,re,beta):\n",
      "    return ie*np.exp(-(2./beta-0.33)*((r/re)**beta-1))"
     ],
     "language": "python",
     "metadata": {},
     "outputs": [],
     "prompt_number": 2
    },
    {
     "cell_type": "code",
     "collapsed": false,
     "input": [
      "def sersic_charly_mue(r,mue,re,beta):\n",
      "    return mue + 2.5*(2./beta-0.33)*((r/re)**beta -1)/np.log(10)"
     ],
     "language": "python",
     "metadata": {},
     "outputs": [],
     "prompt_number": 3
    },
    {
     "cell_type": "code",
     "collapsed": false,
     "input": [
      "def mu(_ie):\n",
      "    return -2.5*np.log10(_ie)-48.6 -0.044"
     ],
     "language": "python",
     "metadata": {},
     "outputs": [],
     "prompt_number": 4
    },
    {
     "cell_type": "code",
     "collapsed": false,
     "input": [
      "m091,rmu24_091      = np.loadtxt('091band125.txt',usecols=[3,4], unpack=True)\n",
      "m041,rmu24_041      = np.loadtxt('041band125.txt',usecols=[3,4], unpack=True)"
     ],
     "language": "python",
     "metadata": {},
     "outputs": [],
     "prompt_number": 5
    },
    {
     "cell_type": "code",
     "collapsed": false,
     "input": [
      "#defino los vectores de distancia radial y brillo superficial de cada regi\u00f3n, para cada redshift.\n",
      "limite_oficial = 80\n",
      "n_tot_regiones = 30\n",
      "banda = '125'\n",
      "\n",
      "r_041_reg   = np.zeros((n_tot_regiones,limite_oficial))\n",
      "r_091_reg   = np.zeros((n_tot_regiones,limite_oficial))\n",
      "i_041_reg  = np.zeros((n_tot_regiones,limite_oficial))\n",
      "i_091_reg  = np.zeros((n_tot_regiones,limite_oficial))\n",
      " \n",
      "\n",
      "for j in range(n_tot_regiones):\n",
      "    if j==0:\n",
      "        continue\n",
      "    with open('D'+str(j)+'/'+'041' +'/mean_ienlog'+banda+'.txt') as f:\n",
      "        lineas041 = len(f.readlines())\n",
      "    limite041 = lineas041 - limite_oficial \n",
      "    r_041_reg[j] = np.genfromtxt('D'+str(j)+'/'+'041' +'/mean_ienlog'+banda+'.txt', usecols=[0] , unpack=True,skip_footer= limite041)\n",
      "    i_041_reg[j] = np.genfromtxt('D'+str(j)+'/'+'041' +'/mean_ienlog'+banda+'.txt', usecols=[1] , unpack=True,skip_footer= limite041)\n",
      "\n",
      "for j in range(n_tot_regiones):\n",
      "    if j==0:\n",
      "        continue\n",
      "    with open('D'+str(j)+'/'+'091' +'/mean_ienlog'+banda+'.txt') as f:\n",
      "        lineas091 = len(f.readlines())\n",
      "    limite091 = lineas091 - limite_oficial \n",
      "    r_091_reg[j] = np.genfromtxt('D'+str(j)+'/'+'091' +'/mean_ienlog'+banda+'.txt', usecols=[0] , unpack=True,skip_footer= limite091)\n",
      "    i_091_reg[j] = np.genfromtxt('D'+str(j)+'/'+'091' +'/mean_ienlog'+banda+'.txt', usecols=[1] , unpack=True,skip_footer= limite091)"
     ],
     "language": "python",
     "metadata": {},
     "outputs": [],
     "prompt_number": 6
    },
    {
     "cell_type": "code",
     "collapsed": false,
     "input": [
      "from matplotlib.offsetbox import AnchoredText\n",
      "\n",
      "plt.rc('text', usetex=True)\n",
      "font = {'family': 'serif', 'size': 40, 'serif': ['computer modern roman']}\n",
      "plt.rc('font', **font)\n",
      "plt.rc('legend', **{'fontsize': 40}) \n",
      "plt.rcParams['text.latex.preamble'] = [r'\\usepackage{amsmath}']\n",
      "\n",
      "plt.rcParams['axes.linewidth'] = 1.0\n",
      "plt.rcParams['xtick.major.size'] = 8\n",
      "plt.rcParams['xtick.minor.size'] = 4\n",
      "plt.rcParams['ytick.major.size'] = 6\n",
      "plt.rcParams['ytick.minor.size'] = 3\n",
      "mpl.rc('lines', linewidth=3)"
     ],
     "language": "python",
     "metadata": {},
     "outputs": [],
     "prompt_number": 7
    },
    {
     "cell_type": "code",
     "collapsed": false,
     "input": [
      "#Hago ajustes 1componente de Sersic. Comentar Linea que guarda resultados en caso de no querer modificar los ya obtenidos \n",
      "#Los ajuste estan hechos dentro de Rmu24\n",
      "#os.remove('ajustes_acotados_z0_caon.txt')\n",
      "ajustes = open('ajustes_acotados_z0_ie.txt','a')\n",
      "for i in range(30):\n",
      "    if i == 0: #or i == 8 or i == 9 or i == 12 or i == 13 or i == 16 or i == 20 or i == 28 or i == 29:\n",
      "        continue\n",
      "    elif i==8 :\n",
      "        index = next(x[0] for x in enumerate(r_091_reg[i]) if x[1] > rmu24_091[i-1])\n",
      "        xdata = r_091_reg[i][1:index+1]\n",
      "        ydata = i_091_reg[i][1:index+1]\n",
      "        p=[3e-18,30,0.1]\n",
      "        popt, pcov = curve_fit(sersic_charly_ie, xdata, ydata,p) \n",
      "    elif i==9 :\n",
      "        index = next(x[0] for x in enumerate(r_091_reg[i]) if x[1] > rmu24_091[i-1])\n",
      "        xdata = r_091_reg[i][2:index+1]\n",
      "        ydata = i_091_reg[i][2:index+1]\n",
      "        p=[1e-18,50,0.2]\n",
      "        popt, pcov = curve_fit(sersic_charly_ie, xdata, ydata,p) \n",
      "    elif i==12 :\n",
      "        index = next(x[0] for x in enumerate(r_091_reg[i]) if x[1] > rmu24_091[i-1])\n",
      "        xdata = r_091_reg[i][1:index+1]\n",
      "        ydata = i_091_reg[i][1:index+1]\n",
      "        p=[1e-18,10,0.1]\n",
      "        popt, pcov = curve_fit(sersic_charly_ie, xdata, ydata,p)        \n",
      "    elif i==20 :\n",
      "        index = next(x[0] for x in enumerate(r_091_reg[i]) if x[1] > rmu24_091[i-1])\n",
      "        xdata = r_091_reg[i][1:index+1]\n",
      "        ydata = i_091_reg[i][1:index+1]\n",
      "        p=[1*1e-18,30,0.1]\n",
      "        popt, pcov = curve_fit(sersic_charly_ie, xdata, ydata,p)\n",
      "    elif i==28:\n",
      "        index = next(x[0] for x in enumerate(r_091_reg[i]) if x[1] > rmu24_091[i-1])\n",
      "        xdata = r_091_reg[i][3:index+1]\n",
      "        ydata = i_091_reg[i][3:index+1]\n",
      "        p=[5e-18,30,0.15]\n",
      "        popt, pcov = curve_fit(sersic_charly_ie, xdata, ydata,p)         \n",
      "    elif i==29:\n",
      "        index = next(x[0] for x in enumerate(r_091_reg[i]) if x[1] > rmu24_091[i-1])\n",
      "        xdata = r_091_reg[i][1:index+1]\n",
      "        ydata = i_091_reg[i][1:index+1]\n",
      "        p=[1e-18,30,0.24]\n",
      "        popt, pcov = curve_fit(sersic_charly_ie, xdata, ydata,p) \n",
      "    else:    \n",
      "        index =  next(x[0] for x in enumerate(r_091_reg[i]) if x[1] > rmu24_091[i-1])\n",
      "        xdata = r_091_reg[i][1:index+1]\n",
      "        ydata = i_091_reg[i][1:index+1]\n",
      "        p=[1e-18,30,0.24]\n",
      "        popt, pcov = curve_fit(sersic_charly_ie, xdata, ydata,p)    \n",
      "    ajustes.write('{ie:9.3g} {re:9.3g} {n:9.3g} {errmue:9.3g} {errre:9.3g} {errn:9.3g}\\n'.format(ie=popt[0], re=popt[1], n=popt[2],\n",
      "    errmue=pcov[0][0], errre=pcov[1][1], errn=pcov[2][2]))\n",
      "\n",
      "ajustes.close() "
     ],
     "language": "python",
     "metadata": {},
     "outputs": [],
     "prompt_number": 10
    },
    {
     "cell_type": "code",
     "collapsed": false,
     "input": [
      "ie,re,beta = np.loadtxt('ajustes_acotados_z0_ie.txt',usecols=[0,1,2] ,unpack=True)#, skiprows=1)"
     ],
     "language": "python",
     "metadata": {},
     "outputs": [],
     "prompt_number": 11
    },
    {
     "cell_type": "code",
     "collapsed": false,
     "input": [
      "r_fit=np.linspace(0,150,100)\n",
      "#mu_e = mu(ie[0]) -2.5*(0.868/beta[0]-0.142)/np.log(10)\n",
      "\n",
      "mu_e = mu(ie[0])\n",
      "y_mue = sersic_charly_mue(r_fit, mu_e,re[0],beta[0])\n",
      "y_ie  = sersic_charly_ie(r_fit, ie[0] ,re[0],beta[0])"
     ],
     "language": "python",
     "metadata": {},
     "outputs": [],
     "prompt_number": 12
    },
    {
     "cell_type": "code",
     "collapsed": false,
     "input": [
      "fig = plt.figure(figsize=(50,50))\n",
      "i=1\n",
      "for ii in range(6):\n",
      "    for jj in range(5):\n",
      "        if i==30:\n",
      "            continue\n",
      "        ax=plt.subplot2grid((6,5), (ii,jj))\n",
      "        y_ie  = sersic_charly_ie(r_fit, ie[i-1] ,re[i-1],beta[i-1])\n",
      "        ax.scatter( r_091_reg[i][1:70], i_091_reg[i][1:70], label='ie-datos',color='orange',marker='.',s=100)\n",
      "        ax.plot(r_fit,y_ie, label='ie-charly', color='purple')\n",
      "        ax.legend(loc='upper right', frameon=False, scatterpoints=1,borderpad=0.1, labelspacing=0)\n",
      "        ax.set_ylim(1*1e-19,1.6*1e-17)\n",
      "        ax.set_xlim(0,130)\n",
      "        ax.set_title('D'+str(i))\n",
      "        xticks = ax.xaxis.get_major_ticks()\n",
      "        xticks[0].label1.set_visible(False)\n",
      "        xticks[2].label1.set_visible(False)\n",
      "        xticks[4].label1.set_visible(False)\n",
      "        xticks[6].label1.set_visible(False)\n",
      "        xticks[-1].label1.set_visible(False)\n",
      "        yticks = ax.yaxis.get_major_ticks()\n",
      "        yticks[0].label1.set_visible(False)\n",
      "        yticks[2].label1.set_visible(False)\n",
      "        yticks[4].label1.set_visible(False)\n",
      "        yticks[6].label1.set_visible(False)\n",
      "        yticks[-1].label1.set_visible(False)\n",
      "        #p1.title('D'+str(i))\n",
      "        i=i+1\n",
      "        \n",
      "plt.savefig('ajustes.pdf', format='pdf', dpi=1500,bbox_inches='tight') \n",
      "plt.show()"
     ],
     "language": "python",
     "metadata": {},
     "outputs": [
      {
       "output_type": "stream",
       "stream": "stderr",
       "text": [
        "/usr/lib64/python2.7/site-packages/matplotlib/collections.py:590: FutureWarning: elementwise comparison failed; returning scalar instead, but in the future will perform elementwise comparison\n",
        "  if self._edgecolors == str('face'):\n"
       ]
      }
     ],
     "prompt_number": 13
    },
    {
     "cell_type": "code",
     "collapsed": false,
     "input": [
      "fig = plt.figure(figsize=(7,7))\n",
      "ax1 = fig.add_subplot(111)\n",
      "#ax1.set_ylim(25,18)\n",
      "#mu_e = mu(ie/4.2545e10)\n",
      "y_ie = sersic_charly_mue(r_fit, mu_e,re,beta)\n",
      "ax1.scatter( r_091_reg[1][1:70], mu(i_091_reg[1][1:70]/4.2545e10), label='mu(ietabla)',color='red')\n",
      "ax1.plot(r_fit,y_mue, label='mucaon', color='green')\n",
      "ax1.legend(loc='upper right', frameon=False, scatterpoints=1,borderpad=0.1, labelspacing=0)\n",
      "ax1.set_xlim(0,130)\n",
      "plt.show()"
     ],
     "language": "python",
     "metadata": {},
     "outputs": [
      {
       "ename": "ValueError",
       "evalue": "operands could not be broadcast together with shapes (100,) (87,) ",
       "output_type": "pyerr",
       "traceback": [
        "\u001b[1;31m---------------------------------------------------------------------------\u001b[0m\n\u001b[1;31mValueError\u001b[0m                                Traceback (most recent call last)",
        "\u001b[1;32m<ipython-input-14-edec94261c47>\u001b[0m in \u001b[0;36m<module>\u001b[1;34m()\u001b[0m\n\u001b[0;32m      3\u001b[0m \u001b[1;31m#ax1.set_ylim(25,18)\u001b[0m\u001b[1;33m\u001b[0m\u001b[1;33m\u001b[0m\u001b[0m\n\u001b[0;32m      4\u001b[0m \u001b[1;31m#mu_e = mu(ie/4.2545e10)\u001b[0m\u001b[1;33m\u001b[0m\u001b[1;33m\u001b[0m\u001b[0m\n\u001b[1;32m----> 5\u001b[1;33m \u001b[0my_ie\u001b[0m \u001b[1;33m=\u001b[0m \u001b[0msersic_charly_mue\u001b[0m\u001b[1;33m(\u001b[0m\u001b[0mr_fit\u001b[0m\u001b[1;33m,\u001b[0m \u001b[0mmu_e\u001b[0m\u001b[1;33m,\u001b[0m\u001b[0mre\u001b[0m\u001b[1;33m,\u001b[0m\u001b[0mbeta\u001b[0m\u001b[1;33m)\u001b[0m\u001b[1;33m\u001b[0m\u001b[0m\n\u001b[0m\u001b[0;32m      6\u001b[0m \u001b[0max1\u001b[0m\u001b[1;33m.\u001b[0m\u001b[0mscatter\u001b[0m\u001b[1;33m(\u001b[0m \u001b[0mr_091_reg\u001b[0m\u001b[1;33m[\u001b[0m\u001b[1;36m1\u001b[0m\u001b[1;33m]\u001b[0m\u001b[1;33m[\u001b[0m\u001b[1;36m1\u001b[0m\u001b[1;33m:\u001b[0m\u001b[1;36m70\u001b[0m\u001b[1;33m]\u001b[0m\u001b[1;33m,\u001b[0m \u001b[0mmu\u001b[0m\u001b[1;33m(\u001b[0m\u001b[0mi_091_reg\u001b[0m\u001b[1;33m[\u001b[0m\u001b[1;36m1\u001b[0m\u001b[1;33m]\u001b[0m\u001b[1;33m[\u001b[0m\u001b[1;36m1\u001b[0m\u001b[1;33m:\u001b[0m\u001b[1;36m70\u001b[0m\u001b[1;33m]\u001b[0m\u001b[1;33m/\u001b[0m\u001b[1;36m4.2545e10\u001b[0m\u001b[1;33m)\u001b[0m\u001b[1;33m,\u001b[0m \u001b[0mlabel\u001b[0m\u001b[1;33m=\u001b[0m\u001b[1;34m'mu(ietabla)'\u001b[0m\u001b[1;33m,\u001b[0m\u001b[0mcolor\u001b[0m\u001b[1;33m=\u001b[0m\u001b[1;34m'red'\u001b[0m\u001b[1;33m)\u001b[0m\u001b[1;33m\u001b[0m\u001b[0m\n\u001b[0;32m      7\u001b[0m \u001b[0max1\u001b[0m\u001b[1;33m.\u001b[0m\u001b[0mplot\u001b[0m\u001b[1;33m(\u001b[0m\u001b[0mr_fit\u001b[0m\u001b[1;33m,\u001b[0m\u001b[0my_mue\u001b[0m\u001b[1;33m,\u001b[0m \u001b[0mlabel\u001b[0m\u001b[1;33m=\u001b[0m\u001b[1;34m'mucaon'\u001b[0m\u001b[1;33m,\u001b[0m \u001b[0mcolor\u001b[0m\u001b[1;33m=\u001b[0m\u001b[1;34m'green'\u001b[0m\u001b[1;33m)\u001b[0m\u001b[1;33m\u001b[0m\u001b[0m\n",
        "\u001b[1;32m<ipython-input-3-7fc1e2d7ceba>\u001b[0m in \u001b[0;36msersic_charly_mue\u001b[1;34m(r, mue, re, beta)\u001b[0m\n\u001b[0;32m      1\u001b[0m \u001b[1;32mdef\u001b[0m \u001b[0msersic_charly_mue\u001b[0m\u001b[1;33m(\u001b[0m\u001b[0mr\u001b[0m\u001b[1;33m,\u001b[0m\u001b[0mmue\u001b[0m\u001b[1;33m,\u001b[0m\u001b[0mre\u001b[0m\u001b[1;33m,\u001b[0m\u001b[0mbeta\u001b[0m\u001b[1;33m)\u001b[0m\u001b[1;33m:\u001b[0m\u001b[1;33m\u001b[0m\u001b[0m\n\u001b[1;32m----> 2\u001b[1;33m     \u001b[1;32mreturn\u001b[0m \u001b[0mmue\u001b[0m \u001b[1;33m+\u001b[0m \u001b[1;36m2.5\u001b[0m\u001b[1;33m*\u001b[0m\u001b[1;33m(\u001b[0m\u001b[1;36m2.\u001b[0m\u001b[1;33m/\u001b[0m\u001b[0mbeta\u001b[0m\u001b[1;33m-\u001b[0m\u001b[1;36m0.33\u001b[0m\u001b[1;33m)\u001b[0m\u001b[1;33m*\u001b[0m\u001b[1;33m(\u001b[0m\u001b[1;33m(\u001b[0m\u001b[0mr\u001b[0m\u001b[1;33m/\u001b[0m\u001b[0mre\u001b[0m\u001b[1;33m)\u001b[0m\u001b[1;33m**\u001b[0m\u001b[0mbeta\u001b[0m \u001b[1;33m-\u001b[0m\u001b[1;36m1\u001b[0m\u001b[1;33m)\u001b[0m\u001b[1;33m/\u001b[0m\u001b[0mnp\u001b[0m\u001b[1;33m.\u001b[0m\u001b[0mlog\u001b[0m\u001b[1;33m(\u001b[0m\u001b[1;36m10\u001b[0m\u001b[1;33m)\u001b[0m\u001b[1;33m\u001b[0m\u001b[0m\n\u001b[0m",
        "\u001b[1;31mValueError\u001b[0m: operands could not be broadcast together with shapes (100,) (87,) "
       ]
      }
     ],
     "prompt_number": 14
    },
    {
     "cell_type": "code",
     "collapsed": false,
     "input": [
      "iee,ree,betaa = np.loadtxt('ajustes_acotados_z0_caon.txt',usecols=[0,1,2] ,unpack=True)"
     ],
     "language": "python",
     "metadata": {},
     "outputs": [],
     "prompt_number": 15
    },
    {
     "cell_type": "code",
     "collapsed": false,
     "input": [
      "r_fit=np.linspace(0,150,100)\n",
      "y_ie  = sersic_charly_ie(r_fit, ie ,re,beta)\n",
      "y_ie2 = sersic_charly_ie(r_fit, 1.21e-18 ,65,0.48)\n",
      "fig = plt.figure(figsize=(7,7))\n",
      "ax1 = fig.add_subplot(111)\n",
      "ax1.set_ylim(np.min( i_091_reg[1][1:70]),np.max( i_091_reg[1][1:70]))\n",
      "ax1.scatter( r_091_reg[1][1:70], i_091_reg[1][1:70], label='mu(ietabla)',color='gray')\n",
      "ax1.plot(r_fit,y_ie, label='mucaon', color='green')\n",
      "ax1.plot(r_fit,y_ie2, label='mucaon', color='red', linestyle='--')\n",
      "ax1.legend(loc='upper right', frameon=False, scatterpoints=1,borderpad=0.1, labelspacing=0)\n",
      "ax1.set_xlim(0,130)\n",
      "plt.show()"
     ],
     "language": "python",
     "metadata": {},
     "outputs": [
      {
       "ename": "ValueError",
       "evalue": "operands could not be broadcast together with shapes (100,) (87,) ",
       "output_type": "pyerr",
       "traceback": [
        "\u001b[1;31m---------------------------------------------------------------------------\u001b[0m\n\u001b[1;31mValueError\u001b[0m                                Traceback (most recent call last)",
        "\u001b[1;32m<ipython-input-17-cac9967b45cb>\u001b[0m in \u001b[0;36m<module>\u001b[1;34m()\u001b[0m\n\u001b[0;32m      1\u001b[0m \u001b[0mr_fit\u001b[0m\u001b[1;33m=\u001b[0m\u001b[0mnp\u001b[0m\u001b[1;33m.\u001b[0m\u001b[0mlinspace\u001b[0m\u001b[1;33m(\u001b[0m\u001b[1;36m0\u001b[0m\u001b[1;33m,\u001b[0m\u001b[1;36m150\u001b[0m\u001b[1;33m,\u001b[0m\u001b[1;36m100\u001b[0m\u001b[1;33m)\u001b[0m\u001b[1;33m\u001b[0m\u001b[0m\n\u001b[1;32m----> 2\u001b[1;33m \u001b[0my_ie\u001b[0m  \u001b[1;33m=\u001b[0m \u001b[0msersic_charly_ie\u001b[0m\u001b[1;33m(\u001b[0m\u001b[0mr_fit\u001b[0m\u001b[1;33m,\u001b[0m \u001b[0mie\u001b[0m \u001b[1;33m,\u001b[0m\u001b[0mre\u001b[0m\u001b[1;33m,\u001b[0m\u001b[0mbeta\u001b[0m\u001b[1;33m)\u001b[0m\u001b[1;33m\u001b[0m\u001b[0m\n\u001b[0m\u001b[0;32m      3\u001b[0m \u001b[0my_ie2\u001b[0m \u001b[1;33m=\u001b[0m \u001b[0msersic_charly_ie\u001b[0m\u001b[1;33m(\u001b[0m\u001b[0mr_fit\u001b[0m\u001b[1;33m,\u001b[0m \u001b[1;36m1.21e-18\u001b[0m \u001b[1;33m,\u001b[0m\u001b[1;36m65\u001b[0m\u001b[1;33m,\u001b[0m\u001b[1;36m0.48\u001b[0m\u001b[1;33m)\u001b[0m\u001b[1;33m\u001b[0m\u001b[0m\n\u001b[0;32m      4\u001b[0m \u001b[0mfig\u001b[0m \u001b[1;33m=\u001b[0m \u001b[0mplt\u001b[0m\u001b[1;33m.\u001b[0m\u001b[0mfigure\u001b[0m\u001b[1;33m(\u001b[0m\u001b[0mfigsize\u001b[0m\u001b[1;33m=\u001b[0m\u001b[1;33m(\u001b[0m\u001b[1;36m7\u001b[0m\u001b[1;33m,\u001b[0m\u001b[1;36m7\u001b[0m\u001b[1;33m)\u001b[0m\u001b[1;33m)\u001b[0m\u001b[1;33m\u001b[0m\u001b[0m\n\u001b[0;32m      5\u001b[0m \u001b[0max1\u001b[0m \u001b[1;33m=\u001b[0m \u001b[0mfig\u001b[0m\u001b[1;33m.\u001b[0m\u001b[0madd_subplot\u001b[0m\u001b[1;33m(\u001b[0m\u001b[1;36m111\u001b[0m\u001b[1;33m)\u001b[0m\u001b[1;33m\u001b[0m\u001b[0m\n",
        "\u001b[1;32m<ipython-input-2-dc964e39766d>\u001b[0m in \u001b[0;36msersic_charly_ie\u001b[1;34m(r, ie, re, beta)\u001b[0m\n\u001b[0;32m      1\u001b[0m \u001b[1;32mdef\u001b[0m \u001b[0msersic_charly_ie\u001b[0m\u001b[1;33m(\u001b[0m\u001b[0mr\u001b[0m\u001b[1;33m,\u001b[0m\u001b[0mie\u001b[0m\u001b[1;33m,\u001b[0m\u001b[0mre\u001b[0m\u001b[1;33m,\u001b[0m\u001b[0mbeta\u001b[0m\u001b[1;33m)\u001b[0m\u001b[1;33m:\u001b[0m\u001b[1;33m\u001b[0m\u001b[0m\n\u001b[1;32m----> 2\u001b[1;33m     \u001b[1;32mreturn\u001b[0m \u001b[0mie\u001b[0m\u001b[1;33m*\u001b[0m\u001b[0mnp\u001b[0m\u001b[1;33m.\u001b[0m\u001b[0mexp\u001b[0m\u001b[1;33m(\u001b[0m\u001b[1;33m-\u001b[0m\u001b[1;33m(\u001b[0m\u001b[1;36m2.\u001b[0m\u001b[1;33m/\u001b[0m\u001b[0mbeta\u001b[0m\u001b[1;33m-\u001b[0m\u001b[1;36m0.33\u001b[0m\u001b[1;33m)\u001b[0m\u001b[1;33m*\u001b[0m\u001b[1;33m(\u001b[0m\u001b[1;33m(\u001b[0m\u001b[0mr\u001b[0m\u001b[1;33m/\u001b[0m\u001b[0mre\u001b[0m\u001b[1;33m)\u001b[0m\u001b[1;33m**\u001b[0m\u001b[0mbeta\u001b[0m\u001b[1;33m-\u001b[0m\u001b[1;36m1\u001b[0m\u001b[1;33m)\u001b[0m\u001b[1;33m)\u001b[0m\u001b[1;33m\u001b[0m\u001b[0m\n\u001b[0m",
        "\u001b[1;31mValueError\u001b[0m: operands could not be broadcast together with shapes (100,) (87,) "
       ]
      }
     ],
     "prompt_number": 17
    },
    {
     "cell_type": "code",
     "collapsed": false,
     "input": [],
     "language": "python",
     "metadata": {},
     "outputs": []
    },
    {
     "cell_type": "code",
     "collapsed": false,
     "input": [
      "rmu24_091[0]"
     ],
     "language": "python",
     "metadata": {},
     "outputs": [
      {
       "metadata": {},
       "output_type": "pyout",
       "prompt_number": 22,
       "text": [
        "127.34999999999999"
       ]
      }
     ],
     "prompt_number": 22
    },
    {
     "cell_type": "code",
     "collapsed": false,
     "input": [
      "fig = plt.figure(figsize=(50,50))\n",
      "i=1\n",
      "for ii in range(6):\n",
      "    for jj in range(5):\n",
      "        if i==30:\n",
      "            continue\n",
      "        ax=plt.subplot2grid((6,5), (ii,jj))\n",
      "        mu_e = mu(ie[i-1]/4.2545e10)\n",
      "        y_mue = sersic_charly_mue(r_fit, mu_e,re[i-1],beta[i-1])       \n",
      "        ax.scatter( r_091_reg[i][1:70], mu(i_091_reg[i][1:70]/4.2545e10), label='mue-datos',color='orange',marker='.',s=100)\n",
      "        ax.plot(r_fit,y_mue, label='mue-charly', color='purple')\n",
      "        ax.legend(loc='upper right', frameon=False, scatterpoints=1,borderpad=0.1, labelspacing=0)\n",
      "        ax.set_ylim(27,18)\n",
      "        ax.set_xlim(0,130)\n",
      "        ax.set_title('D'+str(i))\n",
      "        xticks = ax.xaxis.get_major_ticks()\n",
      "        xticks[0].label1.set_visible(False)\n",
      "        xticks[2].label1.set_visible(False)\n",
      "        xticks[4].label1.set_visible(False)\n",
      "        xticks[6].label1.set_visible(False)\n",
      "        xticks[-1].label1.set_visible(False)\n",
      "        yticks = ax.yaxis.get_major_ticks()\n",
      "        yticks[0].label1.set_visible(False)\n",
      "        yticks[2].label1.set_visible(False)\n",
      "        yticks[4].label1.set_visible(False)\n",
      "        yticks[6].label1.set_visible(False)\n",
      "        yticks[-1].label1.set_visible(False)\n",
      "        #p1.title('D'+str(i))\n",
      "        i=i+1\n",
      "        \n",
      "plt.savefig('ajustes_mu.pdf', format='pdf', dpi=1500,bbox_inches='tight') \n",
      "plt.show()"
     ],
     "language": "python",
     "metadata": {},
     "outputs": [],
     "prompt_number": 18
    },
    {
     "cell_type": "code",
     "collapsed": false,
     "input": [
      "for i in range(30):\n",
      "    mu_e = mu(ie[i-1]/4.2545e10)\n",
      "    y_mue = sersic_charly_mue(r_fit, mu_e,re[i-1],beta[i-1])\n",
      "    print mu_e"
     ],
     "language": "python",
     "metadata": {},
     "outputs": [
      {
       "output_type": "stream",
       "stream": "stdout",
       "text": [
        "25.1686120176\n",
        "22.7211578942\n",
        "22.1434532691\n",
        "22.6516470442\n",
        "24.2796401006\n",
        "25.314813873\n",
        "22.8546618758\n",
        "22.1647428964\n",
        "22.7954252113\n",
        "29.35374062\n",
        "23.0174722445\n",
        "23.2375767185\n",
        "25.801505732\n",
        "31.6823449355\n",
        "22.547400459\n",
        "22.5942740491\n",
        "22.4735123501\n",
        "23.7272825364\n",
        "27.3393002027\n",
        "23.790275233\n",
        "22.3648481157\n",
        "22.0285326141\n",
        "22.6184922176\n",
        "24.4419921179\n",
        "22.3143396504\n",
        "24.5720646179\n",
        "22.7669763469\n",
        "24.9043337836\n",
        "27.0428502221\n",
        "25.1686120176\n"
       ]
      }
     ],
     "prompt_number": 19
    },
    {
     "cell_type": "code",
     "collapsed": false,
     "input": [
      "#ajuste en mu\n",
      "\n",
      "index = next(x[0] for x in enumerate(r_091_reg[1]) if x[1] > rmu24_091[0])\n",
      "xdata = r_091_reg[1][1:index+1]\n",
      "ydata = mu(i_091_reg[1][1:index+1]/4.2545e10)\n",
      "p=[20,30,0.1]\n",
      "popt, pcov = curve_fit(sersic_charly_mue, xdata, ydata,p) \n",
      "y_mue = sersic_charly_mue(r_fit,popt[0],popt[1],popt[2])\n",
      "ajustes.write('{mue:10.5g} {re:10.5g} {beta:10.5g} {errmue:9.3g} {errre:9.3g} {errbeta:9.3g}\\n'.format(mue=popt[0], re=popt[1], beta=popt[2],\n",
      "errmue=pcov[0][0], errre=pcov[1][1], errbeta=pcov[2][2]))\n",
      "#plt.scatter( r_091_reg[1][1:70], mu(i_091_reg[1][1:70]/4.2545e10), label='mue-datos',color='orange',marker='.',s=100)\n",
      "#plt.plot(r_fit,y_mue, label='mue-charly', color='purple')\n",
      "#plt.xlim(0,140)\n",
      "#plt.show()"
     ],
     "language": "python",
     "metadata": {},
     "outputs": [
      {
       "ename": "ValueError",
       "evalue": "I/O operation on closed file",
       "output_type": "pyerr",
       "traceback": [
        "\u001b[1;31m---------------------------------------------------------------------------\u001b[0m\n\u001b[1;31mValueError\u001b[0m                                Traceback (most recent call last)",
        "\u001b[1;32m<ipython-input-20-207b8dbed947>\u001b[0m in \u001b[0;36m<module>\u001b[1;34m()\u001b[0m\n\u001b[0;32m      8\u001b[0m \u001b[0my_mue\u001b[0m \u001b[1;33m=\u001b[0m \u001b[0msersic_charly_mue\u001b[0m\u001b[1;33m(\u001b[0m\u001b[0mr_fit\u001b[0m\u001b[1;33m,\u001b[0m\u001b[0mpopt\u001b[0m\u001b[1;33m[\u001b[0m\u001b[1;36m0\u001b[0m\u001b[1;33m]\u001b[0m\u001b[1;33m,\u001b[0m\u001b[0mpopt\u001b[0m\u001b[1;33m[\u001b[0m\u001b[1;36m1\u001b[0m\u001b[1;33m]\u001b[0m\u001b[1;33m,\u001b[0m\u001b[0mpopt\u001b[0m\u001b[1;33m[\u001b[0m\u001b[1;36m2\u001b[0m\u001b[1;33m]\u001b[0m\u001b[1;33m)\u001b[0m\u001b[1;33m\u001b[0m\u001b[0m\n\u001b[0;32m      9\u001b[0m ajustes.write('{mue:10.5g} {re:10.5g} {beta:10.5g} {errmue:9.3g} {errre:9.3g} {errbeta:9.3g}\\n'.format(mue=popt[0], re=popt[1], beta=popt[2],\n\u001b[1;32m---> 10\u001b[1;33m errmue=pcov[0][0], errre=pcov[1][1], errbeta=pcov[2][2]))\n\u001b[0m\u001b[0;32m     11\u001b[0m \u001b[1;31m#plt.scatter( r_091_reg[1][1:70], mu(i_091_reg[1][1:70]/4.2545e10), label='mue-datos',color='orange',marker='.',s=100)\u001b[0m\u001b[1;33m\u001b[0m\u001b[1;33m\u001b[0m\u001b[0m\n\u001b[0;32m     12\u001b[0m \u001b[1;31m#plt.plot(r_fit,y_mue, label='mue-charly', color='purple')\u001b[0m\u001b[1;33m\u001b[0m\u001b[1;33m\u001b[0m\u001b[0m\n",
        "\u001b[1;31mValueError\u001b[0m: I/O operation on closed file"
       ]
      }
     ],
     "prompt_number": 20
    },
    {
     "cell_type": "code",
     "collapsed": false,
     "input": [
      "iesersic=10**(-(24.184153392*4.2545e10 +48.6 +0.044)/2.5)"
     ],
     "language": "python",
     "metadata": {},
     "outputs": [],
     "prompt_number": 21
    },
    {
     "cell_type": "code",
     "collapsed": false,
     "input": [
      "iiii"
     ],
     "language": "python",
     "metadata": {},
     "outputs": [
      {
       "ename": "NameError",
       "evalue": "name 'iiii' is not defined",
       "output_type": "pyerr",
       "traceback": [
        "\u001b[1;31m---------------------------------------------------------------------------\u001b[0m\n\u001b[1;31mNameError\u001b[0m                                 Traceback (most recent call last)",
        "\u001b[1;32m<ipython-input-22-f632f5eaffa5>\u001b[0m in \u001b[0;36m<module>\u001b[1;34m()\u001b[0m\n\u001b[1;32m----> 1\u001b[1;33m \u001b[0miiii\u001b[0m\u001b[1;33m\u001b[0m\u001b[0m\n\u001b[0m",
        "\u001b[1;31mNameError\u001b[0m: name 'iiii' is not defined"
       ]
      }
     ],
     "prompt_number": 22
    },
    {
     "cell_type": "code",
     "collapsed": false,
     "input": [
      "y_sersic= sersic_charly_ie(r_fit,iiii,150.0954465,0.283013073412)        \n",
      "plt.scatter( r_091_reg[1][1:70], i_091_reg[1][1:70], label='ie-datos',color='orange',marker='.',s=100)\n",
      "plt.plot(r_fit,y_sersic, label='ie-charly', color='purple')\n",
      "plt.xlim(0,140)\n",
      "plt.ylim(1e-19,1e-17)\n",
      "plt.show()"
     ],
     "language": "python",
     "metadata": {},
     "outputs": [
      {
       "ename": "NameError",
       "evalue": "name 'iiii' is not defined",
       "output_type": "pyerr",
       "traceback": [
        "\u001b[1;31m---------------------------------------------------------------------------\u001b[0m\n\u001b[1;31mNameError\u001b[0m                                 Traceback (most recent call last)",
        "\u001b[1;32m<ipython-input-23-4be465aa6e3a>\u001b[0m in \u001b[0;36m<module>\u001b[1;34m()\u001b[0m\n\u001b[1;32m----> 1\u001b[1;33m \u001b[0my_sersic\u001b[0m\u001b[1;33m=\u001b[0m \u001b[0msersic_charly_ie\u001b[0m\u001b[1;33m(\u001b[0m\u001b[0mr_fit\u001b[0m\u001b[1;33m,\u001b[0m\u001b[0miiii\u001b[0m\u001b[1;33m,\u001b[0m\u001b[1;36m150.0954465\u001b[0m\u001b[1;33m,\u001b[0m\u001b[1;36m0.283013073412\u001b[0m\u001b[1;33m)\u001b[0m\u001b[1;33m\u001b[0m\u001b[0m\n\u001b[0m\u001b[0;32m      2\u001b[0m \u001b[0mplt\u001b[0m\u001b[1;33m.\u001b[0m\u001b[0mscatter\u001b[0m\u001b[1;33m(\u001b[0m \u001b[0mr_091_reg\u001b[0m\u001b[1;33m[\u001b[0m\u001b[1;36m1\u001b[0m\u001b[1;33m]\u001b[0m\u001b[1;33m[\u001b[0m\u001b[1;36m1\u001b[0m\u001b[1;33m:\u001b[0m\u001b[1;36m70\u001b[0m\u001b[1;33m]\u001b[0m\u001b[1;33m,\u001b[0m \u001b[0mi_091_reg\u001b[0m\u001b[1;33m[\u001b[0m\u001b[1;36m1\u001b[0m\u001b[1;33m]\u001b[0m\u001b[1;33m[\u001b[0m\u001b[1;36m1\u001b[0m\u001b[1;33m:\u001b[0m\u001b[1;36m70\u001b[0m\u001b[1;33m]\u001b[0m\u001b[1;33m,\u001b[0m \u001b[0mlabel\u001b[0m\u001b[1;33m=\u001b[0m\u001b[1;34m'ie-datos'\u001b[0m\u001b[1;33m,\u001b[0m\u001b[0mcolor\u001b[0m\u001b[1;33m=\u001b[0m\u001b[1;34m'orange'\u001b[0m\u001b[1;33m,\u001b[0m\u001b[0mmarker\u001b[0m\u001b[1;33m=\u001b[0m\u001b[1;34m'.'\u001b[0m\u001b[1;33m,\u001b[0m\u001b[0ms\u001b[0m\u001b[1;33m=\u001b[0m\u001b[1;36m100\u001b[0m\u001b[1;33m)\u001b[0m\u001b[1;33m\u001b[0m\u001b[0m\n\u001b[0;32m      3\u001b[0m \u001b[0mplt\u001b[0m\u001b[1;33m.\u001b[0m\u001b[0mplot\u001b[0m\u001b[1;33m(\u001b[0m\u001b[0mr_fit\u001b[0m\u001b[1;33m,\u001b[0m\u001b[0my_sersic\u001b[0m\u001b[1;33m,\u001b[0m \u001b[0mlabel\u001b[0m\u001b[1;33m=\u001b[0m\u001b[1;34m'ie-charly'\u001b[0m\u001b[1;33m,\u001b[0m \u001b[0mcolor\u001b[0m\u001b[1;33m=\u001b[0m\u001b[1;34m'purple'\u001b[0m\u001b[1;33m)\u001b[0m\u001b[1;33m\u001b[0m\u001b[0m\n\u001b[0;32m      4\u001b[0m \u001b[0mplt\u001b[0m\u001b[1;33m.\u001b[0m\u001b[0mxlim\u001b[0m\u001b[1;33m(\u001b[0m\u001b[1;36m0\u001b[0m\u001b[1;33m,\u001b[0m\u001b[1;36m140\u001b[0m\u001b[1;33m)\u001b[0m\u001b[1;33m\u001b[0m\u001b[0m\n\u001b[0;32m      5\u001b[0m \u001b[0mplt\u001b[0m\u001b[1;33m.\u001b[0m\u001b[0mylim\u001b[0m\u001b[1;33m(\u001b[0m\u001b[1;36m1e-19\u001b[0m\u001b[1;33m,\u001b[0m\u001b[1;36m1e-17\u001b[0m\u001b[1;33m)\u001b[0m\u001b[1;33m\u001b[0m\u001b[0m\n",
        "\u001b[1;31mNameError\u001b[0m: name 'iiii' is not defined"
       ]
      }
     ],
     "prompt_number": 23
    },
    {
     "cell_type": "code",
     "collapsed": false,
     "input": [
      "iiii = 4.2545e10*10**(-(24.184153392 + 48.6+0.044)/2.5)"
     ],
     "language": "python",
     "metadata": {},
     "outputs": [],
     "prompt_number": 24
    },
    {
     "cell_type": "code",
     "collapsed": false,
     "input": [
      "lala = popt[0]\n",
      "resersic = popt[1]\n",
      "betasersic = popt[2]"
     ],
     "language": "python",
     "metadata": {},
     "outputs": [],
     "prompt_number": 25
    },
    {
     "cell_type": "code",
     "collapsed": false,
     "input": [
      "isersic"
     ],
     "language": "python",
     "metadata": {},
     "outputs": [
      {
       "ename": "NameError",
       "evalue": "name 'isersic' is not defined",
       "output_type": "pyerr",
       "traceback": [
        "\u001b[1;31m---------------------------------------------------------------------------\u001b[0m\n\u001b[1;31mNameError\u001b[0m                                 Traceback (most recent call last)",
        "\u001b[1;32m<ipython-input-26-d8cbc767c460>\u001b[0m in \u001b[0;36m<module>\u001b[1;34m()\u001b[0m\n\u001b[1;32m----> 1\u001b[1;33m \u001b[0misersic\u001b[0m\u001b[1;33m\u001b[0m\u001b[0m\n\u001b[0m",
        "\u001b[1;31mNameError\u001b[0m: name 'isersic' is not defined"
       ]
      }
     ],
     "prompt_number": 26
    },
    {
     "cell_type": "code",
     "collapsed": false,
     "input": [
      "print lala, resersic, betasersic"
     ],
     "language": "python",
     "metadata": {},
     "outputs": [
      {
       "output_type": "stream",
       "stream": "stdout",
       "text": [
        "24.184153392 150.0954465 0.283013073412\n"
       ]
      }
     ],
     "prompt_number": 27
    },
    {
     "cell_type": "code",
     "collapsed": false,
     "input": [
      "#ajuste en mu\n",
      "os.remove('ajustes_acotados_z0_mu.txt')\n",
      "ajustes = open('ajustes_acotados_z0_mu.txt','a')\n",
      "for i in range(30):\n",
      "    if i==0:\n",
      "        continue\n",
      "    elif i==9:\n",
      "        index = next(x[0] for x in enumerate(r_091_reg[i]) if x[1] > rmu24_091[i-1])\n",
      "        xdata = r_091_reg[i][2:index+1]\n",
      "        ydata = mu(i_091_reg[i][2:index+1]/4.2545e10)\n",
      "        p=[24,5,0.4]\n",
      "        popt, pcov = curve_fit(sersic_charly_mue, xdata, ydata,p)\n",
      "    elif i==12:\n",
      "        index = next(x[0] for x in enumerate(r_091_reg[i]) if x[1] > rmu24_091[i-1])\n",
      "        xdata = r_091_reg[i][1:index+1]\n",
      "        ydata = mu(i_091_reg[i][1:index+1]/4.2545e10)\n",
      "        p=[21,30,0.8]\n",
      "        popt, pcov = curve_fit(sersic_charly_mue, xdata, ydata,p)        \n",
      "    else:    \n",
      "        index = next(x[0] for x in enumerate(r_091_reg[i]) if x[1] > rmu24_091[i-1])\n",
      "        xdata = r_091_reg[i][1:index+1]\n",
      "        ydata = mu(i_091_reg[i][1:index+1]/4.2545e10)\n",
      "        p=[20,30,0.1]\n",
      "        popt, pcov = curve_fit(sersic_charly_mue, xdata, ydata,p)\n",
      "    print i\n",
      "    #y_mue = sersic_charly_mue(r_fit,popt[0],popt[1],popt[2])\n",
      "    ajustes.write('{mue:10.5g} {re:10.5g} {beta:10.5g} {errmue:10.5g} {errre:10.5g} {errbeta:10.5g}\\n'.format(mue=popt[0], re=popt[1], beta=popt[2],\n",
      "         errmue=pcov[0][0], errre=pcov[1][1], errbeta=pcov[2][2]))\n",
      "#plt.scatter( r_091_reg[1][1:70], mu(i_091_reg[1][1:70]/4.2545e10), label='mue-datos',color='orange',marker='.',s=100)\n",
      "#plt.plot(r_fit,y_mue, label='mue-charly', color='purple')\n",
      "#plt.xlim(0,140)\n",
      "#plt.show()\n",
      "ajustes.close()"
     ],
     "language": "python",
     "metadata": {},
     "outputs": [
      {
       "output_type": "stream",
       "stream": "stdout",
       "text": [
        "1\n",
        "2\n",
        "3\n",
        "4\n",
        "5\n",
        "6\n",
        "7\n",
        "8\n",
        "9\n",
        "10\n",
        "11\n",
        "12\n",
        "13\n",
        "14\n",
        "15\n",
        "16\n",
        "17\n",
        "18\n",
        "19\n",
        "20\n",
        "21\n",
        "22\n",
        "23\n",
        "24\n",
        "25\n",
        "26\n",
        "27\n",
        "28\n",
        "29\n"
       ]
      },
      {
       "output_type": "stream",
       "stream": "stderr",
       "text": [
        "-c:2: RuntimeWarning: invalid value encountered in power\n"
       ]
      }
     ],
     "prompt_number": 28
    },
    {
     "cell_type": "code",
     "collapsed": false,
     "input": [
      "mue,ree,betaa = np.loadtxt('ajustes_acotados_z0_mu.txt',usecols=[0,1,2] ,unpack=True)"
     ],
     "language": "python",
     "metadata": {},
     "outputs": [],
     "prompt_number": 29
    },
    {
     "cell_type": "code",
     "collapsed": false,
     "input": [
      "#plt.scatter( r_091_reg[1][1:70], mu(i_091_reg[1][1:70]/4.2545e10), label='mue-datos',color='orange',marker='.',s=100)\n",
      "#plt.plot(r_fit,y_mue, label='mue-charly', color='purple')\n",
      "#plt.xlim(0,140)\n",
      "#plt.show()\n",
      "#ydata = mu(i_091_reg[i][1:index+1]/4.2545e10)\n",
      "fig = plt.figure(figsize=(50,50))\n",
      "i=1\n",
      "r_fit=np.linspace(0,150,100)\n",
      "for ii in range(6):\n",
      "    for jj in range(5):\n",
      "        if i==30:\n",
      "            continue\n",
      "        ax=plt.subplot2grid((6,5), (ii,jj))\n",
      "        y_mue = sersic_charly_mue(r_fit,mue[i-1] ,ree[i-1],betaa[i-1])\n",
      "        ax.scatter( r_091_reg[i][1:70],mu(i_091_reg[i][1:70]/4.2545e10), label='mu-datos',color='orange',marker='.',s=100)\n",
      "        ax.plot(r_fit,y_mue, label='ie-charly', color='purple')\n",
      "        ax.legend(loc='upper right', frameon=False, scatterpoints=1,borderpad=0.1, labelspacing=0)\n",
      "        ax.set_ylim(25,19)\n",
      "        ax.set_xlim(0,130)\n",
      "        ax.set_title('D'+str(i))\n",
      "        xticks = ax.xaxis.get_major_ticks()\n",
      "        xticks[0].label1.set_visible(False)\n",
      "        xticks[2].label1.set_visible(False)\n",
      "        xticks[4].label1.set_visible(False)\n",
      "        xticks[6].label1.set_visible(False)\n",
      "        xticks[-1].label1.set_visible(False)\n",
      "        yticks = ax.yaxis.get_major_ticks()\n",
      "        yticks[0].label1.set_visible(False)\n",
      "        yticks[2].label1.set_visible(False)\n",
      "        yticks[4].label1.set_visible(False)\n",
      "        yticks[6].label1.set_visible(False)\n",
      "        yticks[-1].label1.set_visible(False)\n",
      "        #p1.title('D'+str(i))\n",
      "        i=i+1\n",
      "        \n",
      "plt.savefig('ajustes_mu.pdf', format='pdf', dpi=1500,bbox_inches='tight') \n",
      "plt.show()"
     ],
     "language": "python",
     "metadata": {},
     "outputs": [],
     "prompt_number": 30
    },
    {
     "cell_type": "code",
     "collapsed": false,
     "input": [
      "y_sersic= sersic_charly_ie(r_fit,isersic,resersic,betasersic)        \n",
      "plt.scatter( r_091_reg[1][1:70], i_091_reg[1][1:70], label='ie-datos',color='orange',marker='.',s=100)\n",
      "plt.plot(r_fit,y_sersic, label='ie-charly', color='purple')\n",
      "plt.xlim(0,140)\n",
      "plt.ylim(1e-19,1e-17)\n",
      "plt.show()"
     ],
     "language": "python",
     "metadata": {},
     "outputs": [
      {
       "ename": "NameError",
       "evalue": "name 'isersic' is not defined",
       "output_type": "pyerr",
       "traceback": [
        "\u001b[1;31m---------------------------------------------------------------------------\u001b[0m\n\u001b[1;31mNameError\u001b[0m                                 Traceback (most recent call last)",
        "\u001b[1;32m<ipython-input-31-573cf51c60eb>\u001b[0m in \u001b[0;36m<module>\u001b[1;34m()\u001b[0m\n\u001b[1;32m----> 1\u001b[1;33m \u001b[0my_sersic\u001b[0m\u001b[1;33m=\u001b[0m \u001b[0msersic_charly_ie\u001b[0m\u001b[1;33m(\u001b[0m\u001b[0mr_fit\u001b[0m\u001b[1;33m,\u001b[0m\u001b[0misersic\u001b[0m\u001b[1;33m,\u001b[0m\u001b[0mresersic\u001b[0m\u001b[1;33m,\u001b[0m\u001b[0mbetasersic\u001b[0m\u001b[1;33m)\u001b[0m\u001b[1;33m\u001b[0m\u001b[0m\n\u001b[0m\u001b[0;32m      2\u001b[0m \u001b[0mplt\u001b[0m\u001b[1;33m.\u001b[0m\u001b[0mscatter\u001b[0m\u001b[1;33m(\u001b[0m \u001b[0mr_091_reg\u001b[0m\u001b[1;33m[\u001b[0m\u001b[1;36m1\u001b[0m\u001b[1;33m]\u001b[0m\u001b[1;33m[\u001b[0m\u001b[1;36m1\u001b[0m\u001b[1;33m:\u001b[0m\u001b[1;36m70\u001b[0m\u001b[1;33m]\u001b[0m\u001b[1;33m,\u001b[0m \u001b[0mi_091_reg\u001b[0m\u001b[1;33m[\u001b[0m\u001b[1;36m1\u001b[0m\u001b[1;33m]\u001b[0m\u001b[1;33m[\u001b[0m\u001b[1;36m1\u001b[0m\u001b[1;33m:\u001b[0m\u001b[1;36m70\u001b[0m\u001b[1;33m]\u001b[0m\u001b[1;33m,\u001b[0m \u001b[0mlabel\u001b[0m\u001b[1;33m=\u001b[0m\u001b[1;34m'ie-datos'\u001b[0m\u001b[1;33m,\u001b[0m\u001b[0mcolor\u001b[0m\u001b[1;33m=\u001b[0m\u001b[1;34m'orange'\u001b[0m\u001b[1;33m,\u001b[0m\u001b[0mmarker\u001b[0m\u001b[1;33m=\u001b[0m\u001b[1;34m'.'\u001b[0m\u001b[1;33m,\u001b[0m\u001b[0ms\u001b[0m\u001b[1;33m=\u001b[0m\u001b[1;36m100\u001b[0m\u001b[1;33m)\u001b[0m\u001b[1;33m\u001b[0m\u001b[0m\n\u001b[0;32m      3\u001b[0m \u001b[0mplt\u001b[0m\u001b[1;33m.\u001b[0m\u001b[0mplot\u001b[0m\u001b[1;33m(\u001b[0m\u001b[0mr_fit\u001b[0m\u001b[1;33m,\u001b[0m\u001b[0my_sersic\u001b[0m\u001b[1;33m,\u001b[0m \u001b[0mlabel\u001b[0m\u001b[1;33m=\u001b[0m\u001b[1;34m'ie-charly'\u001b[0m\u001b[1;33m,\u001b[0m \u001b[0mcolor\u001b[0m\u001b[1;33m=\u001b[0m\u001b[1;34m'purple'\u001b[0m\u001b[1;33m)\u001b[0m\u001b[1;33m\u001b[0m\u001b[0m\n\u001b[0;32m      4\u001b[0m \u001b[0mplt\u001b[0m\u001b[1;33m.\u001b[0m\u001b[0mxlim\u001b[0m\u001b[1;33m(\u001b[0m\u001b[1;36m0\u001b[0m\u001b[1;33m,\u001b[0m\u001b[1;36m140\u001b[0m\u001b[1;33m)\u001b[0m\u001b[1;33m\u001b[0m\u001b[0m\n\u001b[0;32m      5\u001b[0m \u001b[0mplt\u001b[0m\u001b[1;33m.\u001b[0m\u001b[0mylim\u001b[0m\u001b[1;33m(\u001b[0m\u001b[1;36m1e-19\u001b[0m\u001b[1;33m,\u001b[0m\u001b[1;36m1e-17\u001b[0m\u001b[1;33m)\u001b[0m\u001b[1;33m\u001b[0m\u001b[0m\n",
        "\u001b[1;31mNameError\u001b[0m: name 'isersic' is not defined"
       ]
      }
     ],
     "prompt_number": 31
    },
    {
     "cell_type": "code",
     "collapsed": false,
     "input": [
      "fig = plt.figure(figsize=(50,50))\n",
      "i=1\n",
      "r_fit=np.linspace(0,150,100)\n",
      "for ii in range(6):\n",
      "    for jj in range(5):\n",
      "        if i==30:\n",
      "            continue\n",
      "        ax=plt.subplot2grid((6,5), (ii,jj))\n",
      "        ie_mu = 4.2545e10*10**(-(mue[i-1] + 48.6+0.044)/2.5)\n",
      "        y_sersic_mu= sersic_charly_ie(r_fit,ie_mu,ree[i-1],betaa[i-1])\n",
      "        y_ie = sersic_charly_ie(r_fit, ie[i-1] ,re[i-1],beta[i-1]) \n",
      "        ax.scatter( r_091_reg[i][1:70],i_091_reg[i][1:70],edgecolor='purple',\n",
      "                   label='ie-data',color='gray',marker='o',s=100,alpha=0.3,linewidth='3')\n",
      "        ax.plot(r_fit,y_sersic_mu, label='mu-fit', color='purple')\n",
      "        ax.plot(r_fit,y_ie, label='ie-fit', color='orange', linestyle='--')        \n",
      "        plt.legend(loc='upper right', frameon=False, scatterpoints=1,borderpad=0.1, labelspacing=0)\n",
      "        ax.set_ylim(3e-25,1e-17)\n",
      "        ax.set_xlim(0,130)\n",
      "        ax.set_title('D'+str(i))\n",
      "        xticks = ax.xaxis.get_major_ticks()\n",
      "        xticks[0].label1.set_visible(False)\n",
      "        xticks[-1].label1.set_visible(False)\n",
      "        yticks = ax.yaxis.get_major_ticks()\n",
      "        yticks[0].label1.set_visible(False)\n",
      "        #yticks[6].label1.set_visible(False)\n",
      "        yticks[-1].label1.set_visible(False)\n",
      "        ax.minorticks_on()\n",
      "        #p1.title('D'+str(i))\n",
      "        i=i+1\n",
      "        \n",
      "plt.savefig('ajustes_ies.pdf', format='pdf', dpi=1500,bbox_inches='tight') \n",
      "plt.show()"
     ],
     "language": "python",
     "metadata": {},
     "outputs": []
    },
    {
     "cell_type": "code",
     "collapsed": false,
     "input": [
      "#fig = plt.figure(figsize=(50,50))\n",
      "#i=1\n",
      "r_fit=np.linspace(0,150,100)\n",
      "for i in range(30):\n",
      "    if i==30 or i==0:\n",
      "        continue\n",
      "    fig = plt.figure(figsize=(7,7))\n",
      "    ax = fig.add_subplot(111)        \n",
      "    ie_mu = 4.2545e10*10**(-(mue[i-1] + 48.6+0.044)/2.5)\n",
      "    y_sersic_mu= sersic_charly_ie(r_fit,ie_mu,ree[i-1],betaa[i-1])\n",
      "    y_ie  = sersic_charly_ie(r_fit, ie[i-1] ,re[i-1],beta[i-1])\n",
      "    ax.scatter( r_091_reg[i][1:70],i_091_reg[i][1:70], edgecolor='purple',\n",
      "                   label='ie-data',color='gray',marker='o',s=100,alpha=0.3,linewidth='3')\n",
      "    ax.plot(r_fit,y_sersic_mu, label='mu-fit', color='purple')\n",
      "    ax.plot(r_fit,y_ie, label='ie-fit', color='orange',linestyle='--')        \n",
      "    ax.legend(loc='upper right', frameon=False, scatterpoints=1,borderpad=0.1, labelspacing=0)\n",
      "    ax.set_ylim(3e-25,1e-17)\n",
      "    ax.set_xlim(0,130)\n",
      "    ax.set_title('D'+str(i))\n",
      "    xticks = ax.xaxis.get_major_ticks()\n",
      "    xticks[0].label1.set_visible(False)\n",
      "    xticks[-1].label1.set_visible(False)\n",
      "    yticks = ax.yaxis.get_major_ticks()\n",
      "    yticks[0].label1.set_visible(False)\n",
      "    #yticks[6].label1.set_visible(False)\n",
      "    yticks[-1].label1.set_visible(False)\n",
      "    ax.minorticks_on()\n",
      "    #p1.title('D'+str(i))\n",
      "    plt.savefig('ajustes_ies_D'+str(i)+'.pdf', format='pdf', dpi=1500,bbox_inches='tight') \n",
      "    plt.show()"
     ],
     "language": "python",
     "metadata": {},
     "outputs": [],
     "prompt_number": 33
    },
    {
     "cell_type": "code",
     "collapsed": false,
     "input": [
      "fig = plt.figure(figsize=(50,50))\n",
      "i=1\n",
      "r_fit=np.linspace(0,200,200)\n",
      "for ii in range(6):\n",
      "    for jj in range(5):\n",
      "        if i==30:\n",
      "            continue\n",
      "        ax=plt.subplot2grid((6,5), (ii,jj))\n",
      "        y_mue = sersic_charly_mue(r_fit,mue[i-1] ,ree[i-1],betaa[i-1])\n",
      "        y_ie_mu = mu(sersic_charly_ie(r_fit, ie[i-1] ,re[i-1],beta[i-1])/4.2545e10)       \n",
      "        ax.scatter( r_091_reg[i][1:80],mu(i_091_reg[i][1:80]/4.2545e10),edgecolor='purple', label='mu-data',color='gray',marker='o',s=100,alpha=0.3,linewidth='3')\n",
      "        ax.plot(r_fit,y_mue, label='mu-fit', color='purple')\n",
      "        ax.plot(r_fit,y_ie_mu, label='ie-fit', color='orange', linestyle='--')        \n",
      "        plt.legend(loc='upper right', frameon=False, scatterpoints=1,borderpad=0.1, labelspacing=0)\n",
      "        ax.set_ylim(26,19)\n",
      "        ax.set_xlim(0,130)\n",
      "        ax.set_title('D'+str(i))\n",
      "        \n",
      "        xticks = ax.xaxis.get_major_ticks()\n",
      "        xticks[0].label1.set_visible(False)\n",
      "        xticks[-1].label1.set_visible(False)\n",
      "        yticks = ax.yaxis.get_major_ticks()\n",
      "        yticks[0].label1.set_visible(False)\n",
      "        #yticks[6].label1.set_visible(False)\n",
      "        yticks[-1].label1.set_visible(False)\n",
      "        ax.minorticks_on()\n",
      "        #p1.title('D'+str(i))\n",
      "        i=i+1\n",
      "        \n",
      "plt.savefig('ajustes_mues.pdf', format='pdf', dpi=1500,bbox_inches='tight') \n",
      "plt.show()"
     ],
     "language": "python",
     "metadata": {},
     "outputs": [],
     "prompt_number": 34
    },
    {
     "cell_type": "code",
     "collapsed": false,
     "input": [
      "#fig = plt.figure(figsize=(50,50))\n",
      "#i=1\n",
      "r_fit=np.linspace(0,150,100)\n",
      "for i in range(30):\n",
      "    if i==30 or i==0:\n",
      "        continue\n",
      "    fig = plt.figure(figsize=(7,7))\n",
      "    ax = fig.add_subplot(111)        \n",
      "    y_mue = sersic_charly_mue(r_fit,mue[i-1] ,ree[i-1],betaa[i-1])\n",
      "    y_ie_mu = mu(sersic_charly_ie(r_fit, ie[i-1] ,re[i-1],beta[i-1])/4.2545e10)       \n",
      "    ax.scatter( r_091_reg[i][1:80],mu(i_091_reg[i][1:80]/4.2545e10),edgecolor='purple', label='mu-data',color='gray',marker='o',s=100,alpha=0.3,linewidth='3')\n",
      "    ax.plot(r_fit,y_mue, label='mu-fit', color='purple')\n",
      "    ax.plot(r_fit,y_ie_mu, label='ie-fit', color='orange', linestyle='--')         \n",
      "    ax.legend(loc='upper right', frameon=False, scatterpoints=1,borderpad=0.1, labelspacing=0)\n",
      "    ax.set_ylim(26,19)\n",
      "    ax.set_xlim(0,130)\n",
      "    ax.set_title('D'+str(i))\n",
      "    \n",
      "    xticks = ax.xaxis.get_major_ticks()\n",
      "    xticks[0].label1.set_visible(False)\n",
      "    xticks[-1].label1.set_visible(False)\n",
      "    yticks = ax.yaxis.get_major_ticks()\n",
      "    yticks[0].label1.set_visible(False)\n",
      "    #yticks[6].label1.set_visible(False)\n",
      "    yticks[-1].label1.set_visible(False)\n",
      "    ax.minorticks_on()\n",
      "    #p1.title('D'+str(i))\n",
      "    plt.savefig('ajustes_mues_D'+str(i)+'.pdf', format='pdf', dpi=1500,bbox_inches='tight') \n",
      "    plt.show()"
     ],
     "language": "python",
     "metadata": {},
     "outputs": [],
     "prompt_number": 35
    },
    {
     "cell_type": "code",
     "collapsed": false,
     "input": [],
     "language": "python",
     "metadata": {},
     "outputs": []
    }
   ],
   "metadata": {}
  }
 ]
}