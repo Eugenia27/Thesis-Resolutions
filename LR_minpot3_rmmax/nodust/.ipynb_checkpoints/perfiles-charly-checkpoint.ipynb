{
 "metadata": {
  "name": "",
  "signature": "sha256:d3742095e93728519edf6a3710c3fcb68072cf5877587e0b2ccb7a2e906fdaf5"
 },
 "nbformat": 3,
 "nbformat_minor": 0,
 "worksheets": [
  {
   "cells": [
    {
     "cell_type": "code",
     "collapsed": false,
     "input": [
      "import numpy as np\n",
      "import matplotlib as mpl\n",
      "import matplotlib.pyplot as plt \n",
      "from scipy.optimize import curve_fit\n",
      "import scipy.optimize as optimize\n",
      "from matplotlib.ticker import NullFormatter,MultipleLocator, FormatStrFormatter\n",
      "from matplotlib.offsetbox import AnchoredText\n",
      "import os"
     ],
     "language": "python",
     "metadata": {},
     "outputs": [],
     "prompt_number": 1
    },
    {
     "cell_type": "code",
     "collapsed": false,
     "input": [
      "def sersic_charly_ie(r,ie,re,beta):\n",
      "    return ie*np.exp(-(2./beta-0.33)*((r/re)**beta-1))"
     ],
     "language": "python",
     "metadata": {},
     "outputs": [],
     "prompt_number": 2
    },
    {
     "cell_type": "code",
     "collapsed": false,
     "input": [
      "def sersic_charly_mue(r,mue,re,beta):\n",
      "    return mue + 2.5*(2./beta-0.33)*((r/re)**beta -1)/np.log(10)"
     ],
     "language": "python",
     "metadata": {},
     "outputs": [],
     "prompt_number": 20
    },
    {
     "cell_type": "code",
     "collapsed": false,
     "input": [
      "def mu(_ie):\n",
      "    return -2.5*np.log10(_ie)-48.6 -0.044"
     ],
     "language": "python",
     "metadata": {},
     "outputs": [],
     "prompt_number": 17
    },
    {
     "cell_type": "code",
     "collapsed": false,
     "input": [
      "m091,rmu24_091      = np.loadtxt('091band125.txt',usecols=[3,4], unpack=True)\n",
      "m041,rmu24_041      = np.loadtxt('041band125.txt',usecols=[3,4], unpack=True)"
     ],
     "language": "python",
     "metadata": {},
     "outputs": [],
     "prompt_number": 3
    },
    {
     "cell_type": "code",
     "collapsed": false,
     "input": [
      "#defino los vectores de distancia radial y brillo superficial de cada regi\u00f3n, para cada redshift.\n",
      "limite_oficial = 80\n",
      "n_tot_regiones = 30\n",
      "banda = '125'\n",
      "\n",
      "r_041_reg   = np.zeros((n_tot_regiones,limite_oficial))\n",
      "r_091_reg   = np.zeros((n_tot_regiones,limite_oficial))\n",
      "i_041_reg  = np.zeros((n_tot_regiones,limite_oficial))\n",
      "i_091_reg  = np.zeros((n_tot_regiones,limite_oficial))\n",
      " \n",
      "\n",
      "for j in range(n_tot_regiones):\n",
      "    if j==0:\n",
      "        continue\n",
      "    with open('D'+str(j)+'/'+'041' +'/mean_ienlog'+banda+'.txt') as f:\n",
      "        lineas041 = len(f.readlines())\n",
      "    limite041 = lineas041 - limite_oficial \n",
      "    r_041_reg[j] = np.genfromtxt('D'+str(j)+'/'+'041' +'/mean_ienlog'+banda+'.txt', usecols=[0] , unpack=True,skip_footer= limite041)\n",
      "    i_041_reg[j] = np.genfromtxt('D'+str(j)+'/'+'041' +'/mean_ienlog'+banda+'.txt', usecols=[1] , unpack=True,skip_footer= limite041)\n",
      "\n",
      "for j in range(n_tot_regiones):\n",
      "    if j==0:\n",
      "        continue\n",
      "    with open('D'+str(j)+'/'+'091' +'/mean_ienlog'+banda+'.txt') as f:\n",
      "        lineas091 = len(f.readlines())\n",
      "    limite091 = lineas091 - limite_oficial \n",
      "    r_091_reg[j] = np.genfromtxt('D'+str(j)+'/'+'091' +'/mean_ienlog'+banda+'.txt', usecols=[0] , unpack=True,skip_footer= limite091)\n",
      "    i_091_reg[j] = np.genfromtxt('D'+str(j)+'/'+'091' +'/mean_ienlog'+banda+'.txt', usecols=[1] , unpack=True,skip_footer= limite091)"
     ],
     "language": "python",
     "metadata": {},
     "outputs": [],
     "prompt_number": 5
    },
    {
     "cell_type": "code",
     "collapsed": false,
     "input": [
      "from matplotlib.offsetbox import AnchoredText\n",
      "\n",
      "plt.rc('text', usetex=True)\n",
      "font = {'family': 'serif', 'size': 40, 'serif': ['computer modern roman']}\n",
      "plt.rc('font', **font)\n",
      "plt.rc('legend', **{'fontsize': 40}) \n",
      "plt.rcParams['text.latex.preamble'] = [r'\\usepackage{amsmath}']\n",
      "\n",
      "plt.rcParams['axes.linewidth'] = 1.0\n",
      "plt.rcParams['xtick.major.size'] = 8\n",
      "plt.rcParams['xtick.minor.size'] = 4\n",
      "plt.rcParams['ytick.major.size'] = 6\n",
      "plt.rcParams['ytick.minor.size'] = 3\n",
      "mpl.rc('lines', linewidth=3)"
     ],
     "language": "python",
     "metadata": {},
     "outputs": [],
     "prompt_number": 116
    },
    {
     "cell_type": "code",
     "collapsed": false,
     "input": [
      "#Hago ajustes 1componente de Sersic. Comentar Linea que guarda resultados en caso de no querer modificar los ya obtenidos \n",
      "#Los ajuste estan hechos dentro de Rmu24\n",
      "os.remove('ajustes_acotados_z0_caon.txt')\n",
      "ajustes = open('ajustes_acotados_z0_caon.txt','a')\n",
      "for i in range(30):\n",
      "    if i == 0: #or i == 8 or i == 9 or i == 12 or i == 13 or i == 16 or i == 20 or i == 28 or i == 29:\n",
      "        continue\n",
      "        break\n",
      "    elif i==8 :\n",
      "        index = next(x[0] for x in enumerate(r_091_reg[i]) if x[1] > rmu24_091[i-1])\n",
      "        xdata = r_091_reg[i][1:index+1]\n",
      "        ydata = i_091_reg[i][1:index+1]\n",
      "        p=[3e-18,30,0.1]\n",
      "        popt, pcov = curve_fit(sersic_charly_ie, xdata, ydata,p) \n",
      "    elif i==9 :\n",
      "        index = next(x[0] for x in enumerate(r_091_reg[i]) if x[1] > rmu24_091[i-1])\n",
      "        xdata = r_091_reg[i][2:index+1]\n",
      "        ydata = i_091_reg[i][2:index+1]\n",
      "        p=[1e-18,50,0.2]\n",
      "        popt, pcov = curve_fit(sersic_charly_ie, xdata, ydata,p) \n",
      "    elif i==12 :\n",
      "        index = next(x[0] for x in enumerate(r_091_reg[i]) if x[1] > rmu24_091[i-1])\n",
      "        xdata = r_091_reg[i][1:index+1]\n",
      "        ydata = i_091_reg[i][1:index+1]\n",
      "        p=[1e-18,10,0.1]\n",
      "        popt, pcov = curve_fit(sersic_charly_ie, xdata, ydata,p)        \n",
      "    elif i==20 :\n",
      "        index = next(x[0] for x in enumerate(r_091_reg[i]) if x[1] > rmu24_091[i-1])\n",
      "        xdata = r_091_reg[i][1:index+1]\n",
      "        ydata = i_091_reg[i][1:index+1]\n",
      "        p=[1*1e-18,30,0.1]\n",
      "        popt, pcov = curve_fit(sersic_charly_ie, xdata, ydata,p)\n",
      "    elif i==28:\n",
      "        index = next(x[0] for x in enumerate(r_091_reg[i]) if x[1] > rmu24_091[i-1])\n",
      "        xdata = r_091_reg[i][3:index+1]\n",
      "        ydata = i_091_reg[i][3:index+1]\n",
      "        p=[5e-18,30,0.15]\n",
      "        popt, pcov = curve_fit(sersic_charly_ie, xdata, ydata,p)         \n",
      "    elif i==29:\n",
      "        index = next(x[0] for x in enumerate(r_091_reg[i]) if x[1] > rmu24_091[i-1])\n",
      "        xdata = r_091_reg[i][1:index+1]\n",
      "        ydata = i_091_reg[i][1:index+1]\n",
      "        p=[1e-18,30,0.24]\n",
      "        popt, pcov = curve_fit(sersic_charly_ie, xdata, ydata,p) \n",
      "    else:    \n",
      "        index =  next(x[0] for x in enumerate(r_091_reg[i]) if x[1] > rmu24_091[i-1])\n",
      "        xdata = r_091_reg[i][1:index+1]\n",
      "        ydata = i_091_reg[i][1:index+1]\n",
      "        p=[1e-18,30,0.24]\n",
      "        popt, pcov = curve_fit(sersic_charly_ie, xdata, ydata,p)    \n",
      "    if i>26:\n",
      "        print i\n",
      "    ajustes.write('{ie:9.3g} {re:9.3g} {n:9.3g} {errmue:9.3g} {errre:9.3g} {errn:9.3g}\\n'.format(ie=popt[0], re=popt[1], n=popt[2],\n",
      "    errmue=pcov[0][0], errre=pcov[1][1], errn=pcov[2][2]))\n",
      "\n",
      "ajustes.close() "
     ],
     "language": "python",
     "metadata": {},
     "outputs": [
      {
       "output_type": "stream",
       "stream": "stdout",
       "text": [
        "27\n",
        "28\n",
        "29\n"
       ]
      }
     ],
     "prompt_number": 103
    },
    {
     "cell_type": "code",
     "collapsed": false,
     "input": [
      "ie,re,beta = np.loadtxt('ajustes_acotados_z0_caon.txt',usecols=[0,1,2] ,unpack=True)#, skiprows=1)"
     ],
     "language": "python",
     "metadata": {},
     "outputs": [],
     "prompt_number": 104
    },
    {
     "cell_type": "code",
     "collapsed": false,
     "input": [
      "ie"
     ],
     "language": "python",
     "metadata": {},
     "outputs": [
      {
       "metadata": {},
       "output_type": "pyout",
       "prompt_number": 105,
       "text": [
        "array([  1.21000000e-18,   2.06000000e-18,   1.29000000e-18,\n",
        "         2.88000000e-19,   1.11000000e-19,   1.07000000e-18,\n",
        "         2.02000000e-18,   1.13000000e-18,   2.69000000e-21,\n",
        "         9.21000000e-19,   7.52000000e-19,   7.09000000e-20,\n",
        "         3.15000000e-22,   1.42000000e-18,   1.36000000e-18,\n",
        "         1.52000000e-18,   4.79000000e-19,   1.72000000e-20,\n",
        "         4.52000000e-19,   1.68000000e-18,   2.29000000e-18,\n",
        "         1.33000000e-18,   2.48000000e-19,   1.76000000e-18,\n",
        "         2.20000000e-19,   1.16000000e-18,   1.62000000e-19,\n",
        "         2.26000000e-20,   1.27000000e-19])"
       ]
      }
     ],
     "prompt_number": 105
    },
    {
     "cell_type": "code",
     "collapsed": false,
     "input": [
      "r_fit=np.linspace(0,150,100)\n",
      "#mu_e = mu(ie[0]) -2.5*(0.868/beta[0]-0.142)/np.log(10)\n",
      "\n",
      "mu_e = mu(ie[0])\n",
      "y_mue = sersic_charly_mue(r_fit, mu_e,re[0],beta[0])\n",
      "y_ie  = sersic_charly_ie(r_fit, ie[0] ,re[0],beta[0])"
     ],
     "language": "python",
     "metadata": {},
     "outputs": [],
     "prompt_number": 106
    },
    {
     "cell_type": "code",
     "collapsed": false,
     "input": [
      "fig = plt.figure(figsize=(50,50))\n",
      "i=1\n",
      "for ii in range(6):\n",
      "    for jj in range(5):\n",
      "        if i==30:\n",
      "            continue\n",
      "        ax=plt.subplot2grid((6,5), (ii,jj))\n",
      "        y_ie  = sersic_charly_ie(r_fit, ie[i-1] ,re[i-1],beta[i-1])\n",
      "        ax.scatter( r_091_reg[i][1:70], i_091_reg[i][1:70], label='ie-datos',color='orange',marker='.',s=100)\n",
      "        ax.plot(r_fit,y_ie, label='ie-charly', color='purple')\n",
      "        ax.legend(loc='upper right', frameon=False, scatterpoints=1,borderpad=0.1, labelspacing=0)\n",
      "        ax.set_ylim(1*1e-19,1.6*1e-17)\n",
      "        ax.set_xlim(0,130)\n",
      "        ax.set_title('D'+str(i))\n",
      "        xticks = ax.xaxis.get_major_ticks()\n",
      "        xticks[0].label1.set_visible(False)\n",
      "        xticks[2].label1.set_visible(False)\n",
      "        xticks[4].label1.set_visible(False)\n",
      "        xticks[6].label1.set_visible(False)\n",
      "        xticks[-1].label1.set_visible(False)\n",
      "        yticks = ax.yaxis.get_major_ticks()\n",
      "        yticks[0].label1.set_visible(False)\n",
      "        yticks[2].label1.set_visible(False)\n",
      "        yticks[4].label1.set_visible(False)\n",
      "        yticks[6].label1.set_visible(False)\n",
      "        yticks[-1].label1.set_visible(False)\n",
      "        #p1.title('D'+str(i))\n",
      "        i=i+1\n",
      "        \n",
      "plt.savefig('ajustes.pdf', format='pdf', dpi=1500,bbox_inches='tight') \n",
      "plt.show()"
     ],
     "language": "python",
     "metadata": {},
     "outputs": [],
     "prompt_number": 117
    },
    {
     "cell_type": "code",
     "collapsed": false,
     "input": [
      "fig = plt.figure(figsize=(7,7))\n",
      "ax1 = fig.add_subplot(111)\n",
      "#ax1.set_ylim(25,18)\n",
      "mu_e = mu(ie/4.2545e10)\n",
      "y_mue = sersic_charly_mue(r_fit, mu_e,re,beta)\n",
      "ax1.scatter( r_091_reg[1][1:70], mu(i_091_reg[1][1:70]/4.2545e10), label='mu(ietabla)',color='red')\n",
      "ax1.plot(r_fit,y_mue, label='mucaon', color='green')\n",
      "ax1.legend(loc='upper right', frameon=False, scatterpoints=1,borderpad=0.1, labelspacing=0)\n",
      "ax1.set_xlim(0,130)\n",
      "plt.show()"
     ],
     "language": "python",
     "metadata": {},
     "outputs": [
      {
       "output_type": "stream",
       "stream": "stderr",
       "text": [
        "-c:2: RuntimeWarning: invalid value encountered in log10\n"
       ]
      },
      {
       "ename": "ValueError",
       "evalue": "operands could not be broadcast together with shapes (100,) (29,) ",
       "output_type": "pyerr",
       "traceback": [
        "\u001b[1;31m---------------------------------------------------------------------------\u001b[0m\n\u001b[1;31mValueError\u001b[0m                                Traceback (most recent call last)",
        "\u001b[1;32m<ipython-input-101-e9b25f715a02>\u001b[0m in \u001b[0;36m<module>\u001b[1;34m()\u001b[0m\n\u001b[0;32m      3\u001b[0m \u001b[1;31m#ax1.set_ylim(25,18)\u001b[0m\u001b[1;33m\u001b[0m\u001b[1;33m\u001b[0m\u001b[0m\n\u001b[0;32m      4\u001b[0m \u001b[0mmu_e\u001b[0m \u001b[1;33m=\u001b[0m \u001b[0mmu\u001b[0m\u001b[1;33m(\u001b[0m\u001b[0mie\u001b[0m\u001b[1;33m/\u001b[0m\u001b[1;36m4.2545e10\u001b[0m\u001b[1;33m)\u001b[0m\u001b[1;33m\u001b[0m\u001b[0m\n\u001b[1;32m----> 5\u001b[1;33m \u001b[0my_mue\u001b[0m \u001b[1;33m=\u001b[0m \u001b[0msersic_charly_mue\u001b[0m\u001b[1;33m(\u001b[0m\u001b[0mr_fit\u001b[0m\u001b[1;33m,\u001b[0m \u001b[0mmu_e\u001b[0m\u001b[1;33m,\u001b[0m\u001b[0mre\u001b[0m\u001b[1;33m,\u001b[0m\u001b[0mbeta\u001b[0m\u001b[1;33m)\u001b[0m\u001b[1;33m\u001b[0m\u001b[0m\n\u001b[0m\u001b[0;32m      6\u001b[0m \u001b[0max1\u001b[0m\u001b[1;33m.\u001b[0m\u001b[0mscatter\u001b[0m\u001b[1;33m(\u001b[0m \u001b[0mr_091_reg\u001b[0m\u001b[1;33m[\u001b[0m\u001b[1;36m1\u001b[0m\u001b[1;33m]\u001b[0m\u001b[1;33m[\u001b[0m\u001b[1;36m1\u001b[0m\u001b[1;33m:\u001b[0m\u001b[1;36m70\u001b[0m\u001b[1;33m]\u001b[0m\u001b[1;33m,\u001b[0m \u001b[0mmu\u001b[0m\u001b[1;33m(\u001b[0m\u001b[0mi_091_reg\u001b[0m\u001b[1;33m[\u001b[0m\u001b[1;36m1\u001b[0m\u001b[1;33m]\u001b[0m\u001b[1;33m[\u001b[0m\u001b[1;36m1\u001b[0m\u001b[1;33m:\u001b[0m\u001b[1;36m70\u001b[0m\u001b[1;33m]\u001b[0m\u001b[1;33m/\u001b[0m\u001b[1;36m4.2545e10\u001b[0m\u001b[1;33m)\u001b[0m\u001b[1;33m,\u001b[0m \u001b[0mlabel\u001b[0m\u001b[1;33m=\u001b[0m\u001b[1;34m'mu(ietabla)'\u001b[0m\u001b[1;33m,\u001b[0m\u001b[0mcolor\u001b[0m\u001b[1;33m=\u001b[0m\u001b[1;34m'red'\u001b[0m\u001b[1;33m)\u001b[0m\u001b[1;33m\u001b[0m\u001b[0m\n\u001b[0;32m      7\u001b[0m \u001b[0max1\u001b[0m\u001b[1;33m.\u001b[0m\u001b[0mplot\u001b[0m\u001b[1;33m(\u001b[0m\u001b[0mr_fit\u001b[0m\u001b[1;33m,\u001b[0m\u001b[0my_mue\u001b[0m\u001b[1;33m,\u001b[0m \u001b[0mlabel\u001b[0m\u001b[1;33m=\u001b[0m\u001b[1;34m'mucaon'\u001b[0m\u001b[1;33m,\u001b[0m \u001b[0mcolor\u001b[0m\u001b[1;33m=\u001b[0m\u001b[1;34m'green'\u001b[0m\u001b[1;33m)\u001b[0m\u001b[1;33m\u001b[0m\u001b[0m\n",
        "\u001b[1;32m<ipython-input-20-7fc1e2d7ceba>\u001b[0m in \u001b[0;36msersic_charly_mue\u001b[1;34m(r, mue, re, beta)\u001b[0m\n\u001b[0;32m      1\u001b[0m \u001b[1;32mdef\u001b[0m \u001b[0msersic_charly_mue\u001b[0m\u001b[1;33m(\u001b[0m\u001b[0mr\u001b[0m\u001b[1;33m,\u001b[0m\u001b[0mmue\u001b[0m\u001b[1;33m,\u001b[0m\u001b[0mre\u001b[0m\u001b[1;33m,\u001b[0m\u001b[0mbeta\u001b[0m\u001b[1;33m)\u001b[0m\u001b[1;33m:\u001b[0m\u001b[1;33m\u001b[0m\u001b[0m\n\u001b[1;32m----> 2\u001b[1;33m     \u001b[1;32mreturn\u001b[0m \u001b[0mmue\u001b[0m \u001b[1;33m+\u001b[0m \u001b[1;36m2.5\u001b[0m\u001b[1;33m*\u001b[0m\u001b[1;33m(\u001b[0m\u001b[1;36m2.\u001b[0m\u001b[1;33m/\u001b[0m\u001b[0mbeta\u001b[0m\u001b[1;33m-\u001b[0m\u001b[1;36m0.33\u001b[0m\u001b[1;33m)\u001b[0m\u001b[1;33m*\u001b[0m\u001b[1;33m(\u001b[0m\u001b[1;33m(\u001b[0m\u001b[0mr\u001b[0m\u001b[1;33m/\u001b[0m\u001b[0mre\u001b[0m\u001b[1;33m)\u001b[0m\u001b[1;33m**\u001b[0m\u001b[0mbeta\u001b[0m \u001b[1;33m-\u001b[0m\u001b[1;36m1\u001b[0m\u001b[1;33m)\u001b[0m\u001b[1;33m/\u001b[0m\u001b[0mnp\u001b[0m\u001b[1;33m.\u001b[0m\u001b[0mlog\u001b[0m\u001b[1;33m(\u001b[0m\u001b[1;36m10\u001b[0m\u001b[1;33m)\u001b[0m\u001b[1;33m\u001b[0m\u001b[0m\n\u001b[0m",
        "\u001b[1;31mValueError\u001b[0m: operands could not be broadcast together with shapes (100,) (29,) "
       ]
      }
     ],
     "prompt_number": 101
    },
    {
     "cell_type": "code",
     "collapsed": false,
     "input": [
      "r_fit=np.linspace(0,150,100)\n",
      "y_ie  = sersic_charly_ie(r_fit, ie ,re,beta)\n",
      "fig = plt.figure(figsize=(7,7))\n",
      "ax1 = fig.add_subplot(111)\n",
      "ax1.set_ylim(np.min( i_091_reg[1][1:70]),np.max( i_091_reg[1][1:70]))\n",
      "ax1.scatter( r_091_reg[1][1:70], i_091_reg[1][1:70], label='mu(ietabla)',color='red')\n",
      "ax1.plot(r_fit,y_ie, label='mucaon', color='green')\n",
      "ax1.legend(loc='upper right', frameon=False, scatterpoints=1,borderpad=0.1, labelspacing=0)\n",
      "ax1.set_xlim(0,130)\n",
      "plt.show()"
     ],
     "language": "python",
     "metadata": {},
     "outputs": [],
     "prompt_number": 15
    },
    {
     "cell_type": "code",
     "collapsed": false,
     "input": [
      "rmu24_091[0]"
     ],
     "language": "python",
     "metadata": {},
     "outputs": [
      {
       "metadata": {},
       "output_type": "pyout",
       "prompt_number": 22,
       "text": [
        "127.34999999999999"
       ]
      }
     ],
     "prompt_number": 22
    },
    {
     "cell_type": "code",
     "collapsed": false,
     "input": [
      "fig = plt.figure(figsize=(50,50))\n",
      "i=1\n",
      "for ii in range(6):\n",
      "    for jj in range(5):\n",
      "        if i==30:\n",
      "            continue\n",
      "        ax=plt.subplot2grid((6,5), (ii,jj))\n",
      "        mu_e = mu(ie[i-1]/4.2545e10)\n",
      "        y_mue = sersic_charly_mue(r_fit, mu_e,re[i-1],beta[i-1])       \n",
      "        ax.scatter( r_091_reg[i][1:70], mu(i_091_reg[i][1:70]/4.2545e10), label='mue-datos',color='orange',marker='.',s=100)\n",
      "        ax.plot(r_fit,y_mue, label='mue-charly', color='purple')\n",
      "        ax.legend(loc='upper right', frameon=False, scatterpoints=1,borderpad=0.1, labelspacing=0)\n",
      "        ax.set_ylim(27,18)\n",
      "        ax.set_xlim(0,130)\n",
      "        ax.set_title('D'+str(i))\n",
      "        xticks = ax.xaxis.get_major_ticks()\n",
      "        xticks[0].label1.set_visible(False)\n",
      "        xticks[2].label1.set_visible(False)\n",
      "        xticks[4].label1.set_visible(False)\n",
      "        xticks[6].label1.set_visible(False)\n",
      "        xticks[-1].label1.set_visible(False)\n",
      "        yticks = ax.yaxis.get_major_ticks()\n",
      "        yticks[0].label1.set_visible(False)\n",
      "        yticks[2].label1.set_visible(False)\n",
      "        yticks[4].label1.set_visible(False)\n",
      "        yticks[6].label1.set_visible(False)\n",
      "        yticks[-1].label1.set_visible(False)\n",
      "        #p1.title('D'+str(i))\n",
      "        i=i+1\n",
      "        \n",
      "plt.savefig('ajustes_mu.pdf', format='pdf', dpi=1500,bbox_inches='tight') \n",
      "plt.show()"
     ],
     "language": "python",
     "metadata": {},
     "outputs": [],
     "prompt_number": 126
    },
    {
     "cell_type": "code",
     "collapsed": false,
     "input": [
      "for i in range(30):\n",
      "    mu_e = mu(ie[i-1]/4.2545e10)\n",
      "    y_mue = sersic_charly_mue(r_fit, mu_e,re[i-1],beta[i-1])\n",
      "    print mu_e"
     ],
     "language": "python",
     "metadata": {},
     "outputs": [
      {
       "output_type": "stream",
       "stream": "stdout",
       "text": [
        "25.1686120176\n",
        "22.7211578942\n",
        "22.1434532691\n",
        "22.6516470442\n",
        "24.2796401006\n",
        "25.314813873\n",
        "22.8546618758\n",
        "22.1647428964\n",
        "22.7954252113\n",
        "29.35374062\n",
        "23.0174722445\n",
        "23.2375767185\n",
        "25.801505732\n",
        "31.6823449355\n",
        "22.547400459\n",
        "22.5942740491\n",
        "22.4735123501\n",
        "23.7272825364\n",
        "27.3393002027\n",
        "23.790275233\n",
        "22.3648481157\n",
        "22.0285326141\n",
        "22.6184922176\n",
        "24.4419921179\n",
        "22.3143396504\n",
        "24.5720646179\n",
        "22.7669763469\n",
        "24.9043337836\n",
        "27.0428502221\n",
        "25.1686120176\n"
       ]
      }
     ],
     "prompt_number": 125
    },
    {
     "cell_type": "code",
     "collapsed": false,
     "input": [],
     "language": "python",
     "metadata": {},
     "outputs": []
    },
    {
     "cell_type": "code",
     "collapsed": false,
     "input": [],
     "language": "python",
     "metadata": {},
     "outputs": []
    }
   ],
   "metadata": {}
  }
 ]
}