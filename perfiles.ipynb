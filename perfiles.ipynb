{
 "metadata": {
  "name": "",
  "signature": "sha256:5eaa42f6a936fd8e3962f4e92a94ce37ee7f37dd5b8203f6d4d13d9b723666ed"
 },
 "nbformat": 3,
 "nbformat_minor": 0,
 "worksheets": [
  {
   "cells": [
    {
     "cell_type": "code",
     "collapsed": false,
     "input": [
      "import numpy as np\n",
      "import matplotlib as mpl\n",
      "import matplotlib.pyplot as plt \n",
      "from scipy.optimize import curve_fit\n",
      "import scipy.optimize as optimize\n",
      "from matplotlib.ticker import NullFormatter,MultipleLocator, FormatStrFormatter\n",
      "from matplotlib.offsetbox import AnchoredText\n",
      "import os"
     ],
     "language": "python",
     "metadata": {},
     "outputs": [],
     "prompt_number": 1
    },
    {
     "cell_type": "code",
     "collapsed": false,
     "input": [
      "def una_componente(r, i_s, r_s, beta):\n",
      "    return i_s*np.exp(-(r/r_s)**beta)"
     ],
     "language": "python",
     "metadata": {},
     "outputs": [],
     "prompt_number": 3
    },
    {
     "cell_type": "code",
     "collapsed": false,
     "input": [
      "regiones=30\n",
      "\n",
      "for j in range(regiones):\n",
      "    #with open('D'+str(j)+'/'+'041' +'/mean_munlog125.txt') as f:\n",
      "    #    lineas041 = len(f.readlines())\n",
      "    #limite041 = lineas041 - limite_oficial_grandes \n",
      "    if j == 0:\n",
      "        continue\n",
      "    r_041_reg[j]  = np.genfromtxt('D'+str(j)+'/'+'041' +'/mean_ienlog125txt', usecols=[0] , unpack=True)\n",
      "    mu_041_reg[j] = np.genfromtxt('D'+str(j)+'/'+'041' +'/mean_ienlog125.txt', usecols=[1] , unpack=True)    \n",
      "\n",
      "for j in range(n_tot_regiones):\n",
      "    #with open('D'+str(j)+'/'+'091' +'/mean_munlog125.txt') as f:\n",
      "    #    lineas091 = len(f.readlines())\n",
      "    #limite091 = lineas091 - limite_oficial_grandes \n",
      "    if j == 0:\n",
      "        continue\n",
      "    r_091_reg[j]  = np.genfromtxt('D'+str(j)+'/'+'091' +'/mean_ienlog125.txt', usecols=[0] , unpack=True)\n",
      "    mu_091_reg[j] = np.genfromtxt('D'+str(j)+'/'+'091' +'/mean_ienlog125.txt', usecols=[1] , unpack=True)  "
     ],
     "language": "python",
     "metadata": {},
     "outputs": [
      {
       "ename": "IOError",
       "evalue": "D1/041/mean_ienlog125txt not found.",
       "output_type": "pyerr",
       "traceback": [
        "\u001b[1;31m---------------------------------------------------------------------------\u001b[0m\n\u001b[1;31mIOError\u001b[0m                                   Traceback (most recent call last)",
        "\u001b[1;32m<ipython-input-6-744bccbbea1c>\u001b[0m in \u001b[0;36m<module>\u001b[1;34m()\u001b[0m\n\u001b[0;32m      7\u001b[0m     \u001b[1;32mif\u001b[0m \u001b[0mj\u001b[0m \u001b[1;33m==\u001b[0m \u001b[1;36m0\u001b[0m\u001b[1;33m:\u001b[0m\u001b[1;33m\u001b[0m\u001b[0m\n\u001b[0;32m      8\u001b[0m         \u001b[1;32mcontinue\u001b[0m\u001b[1;33m\u001b[0m\u001b[0m\n\u001b[1;32m----> 9\u001b[1;33m     \u001b[0mr_041_reg\u001b[0m\u001b[1;33m[\u001b[0m\u001b[0mj\u001b[0m\u001b[1;33m]\u001b[0m  \u001b[1;33m=\u001b[0m \u001b[0mnp\u001b[0m\u001b[1;33m.\u001b[0m\u001b[0mgenfromtxt\u001b[0m\u001b[1;33m(\u001b[0m\u001b[1;34m'D'\u001b[0m\u001b[1;33m+\u001b[0m\u001b[0mstr\u001b[0m\u001b[1;33m(\u001b[0m\u001b[0mj\u001b[0m\u001b[1;33m)\u001b[0m\u001b[1;33m+\u001b[0m\u001b[1;34m'/'\u001b[0m\u001b[1;33m+\u001b[0m\u001b[1;34m'041'\u001b[0m \u001b[1;33m+\u001b[0m\u001b[1;34m'/mean_ienlog125txt'\u001b[0m\u001b[1;33m,\u001b[0m \u001b[0musecols\u001b[0m\u001b[1;33m=\u001b[0m\u001b[1;33m[\u001b[0m\u001b[1;36m0\u001b[0m\u001b[1;33m]\u001b[0m \u001b[1;33m,\u001b[0m \u001b[0munpack\u001b[0m\u001b[1;33m=\u001b[0m\u001b[0mTrue\u001b[0m\u001b[1;33m)\u001b[0m\u001b[1;33m\u001b[0m\u001b[0m\n\u001b[0m\u001b[0;32m     10\u001b[0m     \u001b[0mmu_041_reg\u001b[0m\u001b[1;33m[\u001b[0m\u001b[0mj\u001b[0m\u001b[1;33m]\u001b[0m \u001b[1;33m=\u001b[0m \u001b[0mnp\u001b[0m\u001b[1;33m.\u001b[0m\u001b[0mgenfromtxt\u001b[0m\u001b[1;33m(\u001b[0m\u001b[1;34m'D'\u001b[0m\u001b[1;33m+\u001b[0m\u001b[0mstr\u001b[0m\u001b[1;33m(\u001b[0m\u001b[0mj\u001b[0m\u001b[1;33m)\u001b[0m\u001b[1;33m+\u001b[0m\u001b[1;34m'/'\u001b[0m\u001b[1;33m+\u001b[0m\u001b[1;34m'041'\u001b[0m \u001b[1;33m+\u001b[0m\u001b[1;34m'/mean_ienlog125.txt'\u001b[0m\u001b[1;33m,\u001b[0m \u001b[0musecols\u001b[0m\u001b[1;33m=\u001b[0m\u001b[1;33m[\u001b[0m\u001b[1;36m1\u001b[0m\u001b[1;33m]\u001b[0m \u001b[1;33m,\u001b[0m \u001b[0munpack\u001b[0m\u001b[1;33m=\u001b[0m\u001b[0mTrue\u001b[0m\u001b[1;33m)\u001b[0m\u001b[1;33m\u001b[0m\u001b[0m\n\u001b[0;32m     11\u001b[0m \u001b[1;33m\u001b[0m\u001b[0m\n",
        "\u001b[1;32m/usr/lib64/python2.7/site-packages/numpy/lib/npyio.pyc\u001b[0m in \u001b[0;36mgenfromtxt\u001b[1;34m(fname, dtype, comments, delimiter, skip_header, skip_footer, converters, missing_values, filling_values, usecols, names, excludelist, deletechars, replace_space, autostrip, case_sensitive, defaultfmt, unpack, usemask, loose, invalid_raise, max_rows)\u001b[0m\n\u001b[0;32m   1449\u001b[0m         \u001b[1;32mif\u001b[0m \u001b[0misinstance\u001b[0m\u001b[1;33m(\u001b[0m\u001b[0mfname\u001b[0m\u001b[1;33m,\u001b[0m \u001b[0mbasestring\u001b[0m\u001b[1;33m)\u001b[0m\u001b[1;33m:\u001b[0m\u001b[1;33m\u001b[0m\u001b[0m\n\u001b[0;32m   1450\u001b[0m             \u001b[1;32mif\u001b[0m \u001b[0msys\u001b[0m\u001b[1;33m.\u001b[0m\u001b[0mversion_info\u001b[0m\u001b[1;33m[\u001b[0m\u001b[1;36m0\u001b[0m\u001b[1;33m]\u001b[0m \u001b[1;33m==\u001b[0m \u001b[1;36m2\u001b[0m\u001b[1;33m:\u001b[0m\u001b[1;33m\u001b[0m\u001b[0m\n\u001b[1;32m-> 1451\u001b[1;33m                 \u001b[0mfhd\u001b[0m \u001b[1;33m=\u001b[0m \u001b[0miter\u001b[0m\u001b[1;33m(\u001b[0m\u001b[0mnp\u001b[0m\u001b[1;33m.\u001b[0m\u001b[0mlib\u001b[0m\u001b[1;33m.\u001b[0m\u001b[0m_datasource\u001b[0m\u001b[1;33m.\u001b[0m\u001b[0mopen\u001b[0m\u001b[1;33m(\u001b[0m\u001b[0mfname\u001b[0m\u001b[1;33m,\u001b[0m \u001b[1;34m'rbU'\u001b[0m\u001b[1;33m)\u001b[0m\u001b[1;33m)\u001b[0m\u001b[1;33m\u001b[0m\u001b[0m\n\u001b[0m\u001b[0;32m   1452\u001b[0m             \u001b[1;32melse\u001b[0m\u001b[1;33m:\u001b[0m\u001b[1;33m\u001b[0m\u001b[0m\n\u001b[0;32m   1453\u001b[0m                 \u001b[0mfhd\u001b[0m \u001b[1;33m=\u001b[0m \u001b[0miter\u001b[0m\u001b[1;33m(\u001b[0m\u001b[0mnp\u001b[0m\u001b[1;33m.\u001b[0m\u001b[0mlib\u001b[0m\u001b[1;33m.\u001b[0m\u001b[0m_datasource\u001b[0m\u001b[1;33m.\u001b[0m\u001b[0mopen\u001b[0m\u001b[1;33m(\u001b[0m\u001b[0mfname\u001b[0m\u001b[1;33m,\u001b[0m \u001b[1;34m'rb'\u001b[0m\u001b[1;33m)\u001b[0m\u001b[1;33m)\u001b[0m\u001b[1;33m\u001b[0m\u001b[0m\n",
        "\u001b[1;32m/usr/lib64/python2.7/site-packages/numpy/lib/_datasource.pyc\u001b[0m in \u001b[0;36mopen\u001b[1;34m(path, mode, destpath)\u001b[0m\n\u001b[0;32m    149\u001b[0m \u001b[1;33m\u001b[0m\u001b[0m\n\u001b[0;32m    150\u001b[0m     \u001b[0mds\u001b[0m \u001b[1;33m=\u001b[0m \u001b[0mDataSource\u001b[0m\u001b[1;33m(\u001b[0m\u001b[0mdestpath\u001b[0m\u001b[1;33m)\u001b[0m\u001b[1;33m\u001b[0m\u001b[0m\n\u001b[1;32m--> 151\u001b[1;33m     \u001b[1;32mreturn\u001b[0m \u001b[0mds\u001b[0m\u001b[1;33m.\u001b[0m\u001b[0mopen\u001b[0m\u001b[1;33m(\u001b[0m\u001b[0mpath\u001b[0m\u001b[1;33m,\u001b[0m \u001b[0mmode\u001b[0m\u001b[1;33m)\u001b[0m\u001b[1;33m\u001b[0m\u001b[0m\n\u001b[0m\u001b[0;32m    152\u001b[0m \u001b[1;33m\u001b[0m\u001b[0m\n\u001b[0;32m    153\u001b[0m \u001b[1;33m\u001b[0m\u001b[0m\n",
        "\u001b[1;32m/usr/lib64/python2.7/site-packages/numpy/lib/_datasource.pyc\u001b[0m in \u001b[0;36mopen\u001b[1;34m(self, path, mode)\u001b[0m\n\u001b[0;32m    499\u001b[0m             \u001b[1;32mreturn\u001b[0m \u001b[0m_file_openers\u001b[0m\u001b[1;33m[\u001b[0m\u001b[0mext\u001b[0m\u001b[1;33m]\u001b[0m\u001b[1;33m(\u001b[0m\u001b[0mfound\u001b[0m\u001b[1;33m,\u001b[0m \u001b[0mmode\u001b[0m\u001b[1;33m=\u001b[0m\u001b[0mmode\u001b[0m\u001b[1;33m)\u001b[0m\u001b[1;33m\u001b[0m\u001b[0m\n\u001b[0;32m    500\u001b[0m         \u001b[1;32melse\u001b[0m\u001b[1;33m:\u001b[0m\u001b[1;33m\u001b[0m\u001b[0m\n\u001b[1;32m--> 501\u001b[1;33m             \u001b[1;32mraise\u001b[0m \u001b[0mIOError\u001b[0m\u001b[1;33m(\u001b[0m\u001b[1;34m\"%s not found.\"\u001b[0m \u001b[1;33m%\u001b[0m \u001b[0mpath\u001b[0m\u001b[1;33m)\u001b[0m\u001b[1;33m\u001b[0m\u001b[0m\n\u001b[0m\u001b[0;32m    502\u001b[0m \u001b[1;33m\u001b[0m\u001b[0m\n\u001b[0;32m    503\u001b[0m \u001b[1;33m\u001b[0m\u001b[0m\n",
        "\u001b[1;31mIOError\u001b[0m: D1/041/mean_ienlog125txt not found."
       ]
      }
     ],
     "prompt_number": 6
    },
    {
     "cell_type": "code",
     "collapsed": false,
     "input": [
      "#Hago ajustes 1componente de Sersic. Comentar Linea que guarda resultados en caso de no querer modificar los ya obtenidos \n",
      "#Los ajuste estan hechos dentro de Rmu24\n",
      "#Para las BCGs del segundo cumulo!!!!\n",
      "#os.remove('ajuste.txt')\n",
      "ajustes = open('ajuste.txt','a')\n",
      "rmu24 = 127.35  \n",
      "index = 160\n",
      "xdata = rd1[3:index]\n",
      "ydata = ied1[3:index]\n",
      "poptd1, pcovd1 = optimize.curve_fit(una_componente, xdata, ydata)\n",
      "\n",
      "ajustes.write('{mue:9.3f} {re:9.3f} {n:9.3f}\\n'.\n",
      "              format(mue=poptd1[0], re=poptd1[1], n=poptd1[2]))\n",
      "\n",
      "ajustes.close() "
     ],
     "language": "python",
     "metadata": {},
     "outputs": [],
     "prompt_number": 5
    },
    {
     "cell_type": "code",
     "collapsed": false,
     "input": [
      "ajustes = open('ajuste.txt','a')\n",
      "rmu24 = 127.35  \n",
      "index = 160\n",
      "xdata = r[3:index]\n",
      "ydata = ie[3:index]\n",
      "popt, pcov = optimize.curve_fit(una_componente, xdata, ydata)\n",
      "\n",
      "ajustes.write('{mue:9.3f} {re:9.3f} {n:9.3f}\\n'.\n",
      "              format(mue=popt[0], re=popt[1], n=popt[2]))\n",
      "\n",
      "ajustes.close() "
     ],
     "language": "python",
     "metadata": {},
     "outputs": [],
     "prompt_number": 7
    },
    {
     "cell_type": "code",
     "collapsed": false,
     "input": [
      "print popt"
     ],
     "language": "python",
     "metadata": {},
     "outputs": [
      {
       "output_type": "stream",
       "stream": "stdout",
       "text": [
        "[  2.73812991e-07   5.75050974e-02   2.32083275e-01  -9.89967300e+00\n",
        "   2.71993818e+00   3.81542884e+00]\n"
       ]
      }
     ],
     "prompt_number": 10
    },
    {
     "cell_type": "code",
     "collapsed": false,
     "input": [
      "is_=popt[0]\n",
      "rs =popt[1]\n",
      "beta  =popt[2]\n",
      "print is_, rs,beta"
     ],
     "language": "python",
     "metadata": {},
     "outputs": [
      {
       "output_type": "stream",
       "stream": "stdout",
       "text": [
        "5.54157694688e-17 4.02373289613 0.482718857976\n"
       ]
      }
     ],
     "prompt_number": 9
    },
    {
     "cell_type": "code",
     "collapsed": false,
     "input": [
      "mus= (-2.5*np.log10(is_/4.2545e10) -48.6)\n",
      "b=1.999*(1/beta)-0.3271\n",
      "mue=mus+2.5*b/2.3026\n",
      "re = rs*b**(1/beta)\n",
      "n= 1/beta\n",
      "print mue,re,n"
     ],
     "language": "python",
     "metadata": {},
     "outputs": [
      {
       "output_type": "stream",
       "stream": "stdout",
       "text": [
        "22.7540380746 64.4203730226 2.07159919998\n"
       ]
      }
     ],
     "prompt_number": 10
    },
    {
     "cell_type": "code",
     "collapsed": false,
     "input": [
      "plt.rc('text', usetex=True)\n",
      "font = {'family': 'serif', 'size': 27, 'serif': ['computer modern roman']}\n",
      "plt.rc('font', **font)\n",
      "plt.rc('legend', **{'fontsize': 27}) \n",
      "plt.rcParams['text.latex.preamble'] = [r'\\usepackage{amsmath}']\n",
      "\n",
      "plt.rcParams['axes.linewidth'] = 1.0\n",
      "plt.rcParams['xtick.major.size'] = 8\n",
      "plt.rcParams['xtick.minor.size'] = 4\n",
      "plt.rcParams['ytick.major.size'] = 6\n",
      "plt.rcParams['ytick.minor.size'] = 3\n",
      "mpl.rc('lines', linewidth=1)"
     ],
     "language": "python",
     "metadata": {},
     "outputs": [],
     "prompt_number": 8
    },
    {
     "cell_type": "code",
     "collapsed": false,
     "input": [
      "rd1"
     ],
     "language": "python",
     "metadata": {},
     "outputs": [
      {
       "metadata": {},
       "output_type": "pyout",
       "prompt_number": 10,
       "text": [
        "array([   2.001,    6.002,   10.   ,   14.   ,   18.   ,   22.01 ,\n",
        "         26.01 ,   30.01 ,   34.01 ,   38.01 ,   42.01 ,   46.01 ,\n",
        "         50.01 ,   54.01 ,   58.02 ,   62.02 ,   66.02 ,   70.02 ,\n",
        "         74.02 ,   78.02 ,   82.02 ,   86.02 ,   90.02 ,   94.03 ,\n",
        "         98.03 ,  102.   ,  106.   ,  110.   ,  114.   ,  118.   ,\n",
        "        122.   ,  126.   ,  130.   ,  134.   ,  138.   ,  142.   ,\n",
        "        146.   ,  150.   ,  154.   ,  158.   ,  162.   ])"
       ]
      }
     ],
     "prompt_number": 10
    },
    {
     "cell_type": "code",
     "collapsed": false,
     "input": [
      "#Plot parametros estructura 2\n",
      "fig = plt.figure(figsize=(7,7))\n",
      "ax1 = fig.add_subplot(111)  \n",
      "index = 60  \n",
      "ax1.plot(r[3:index],ie[3:index]*1e-20*4.2545e10, color='purple')\n",
      "ax1.plot(rd1[3:55],ied1[3:55], color='orange') \n",
      "ax1.plot(r[3:index],una_componente(r[3:index],popt[0]*1e-20*4.2545e10,popt[1],popt[2]), color='purple', linestyle='--')\n",
      "ax1.plot(rd1[3:55],una_componente(rd1[3:55],poptd1[0],poptd1[1],poptd1[2]), color='orange', linestyle='--')\n",
      "ax1.legend(loc='upper left', frameon=False, scatterpoints=1,borderpad=0.3, labelspacing=0.2,handletextpad=0.1)\n",
      "xticks1 = ax1.xaxis.get_major_ticks()\n",
      "xticks1[0].label1.set_visible(False)\n",
      "xticks1[-1].label1.set_visible(False)\n",
      "ax1.set_xlabel('R [$Kpc$]')\n",
      "ax1.set_ylabel('$I_{e}$')\n",
      "\n",
      "#ax1.yaxis.set_major_formatter(NullFormatter())\n",
      "ax1.minorticks_on()\n",
      "    \n",
      "#--------------------------------------------------------------------------------------------------------\n",
      "\n",
      "\n",
      "plt.savefig('iecharly.pdf', format='pdf', dpi=1500,bbox_inches='tight')\n",
      "#plt.savefig('parametros_estructura_submuestra.eps', format='eps', dpi=1500,bbox_inches='tight')\n",
      "\n",
      "plt.show() "
     ],
     "language": "python",
     "metadata": {},
     "outputs": [],
     "prompt_number": 13
    },
    {
     "cell_type": "code",
     "collapsed": false,
     "input": [
      "mus= (-2.5*np.log10(ied1/4.2545e10) -48.6)\n",
      "b=1.999*(1/beta)-0.3271\n",
      "mue=mus+2.5*b/2.3026\n",
      "re = rs*b**(1/beta)\n",
      "n= 1/beta\n",
      "print mue,re,n"
     ],
     "language": "python",
     "metadata": {},
     "outputs": []
    },
    {
     "cell_type": "code",
     "collapsed": false,
     "input": [
      "#Plot parametros estructura 2\n",
      "def mu(_ie):\n",
      "    return -2.5*np.log10(_ie/4.2545e10)-48.6 + 0.044\n",
      "\n",
      "fig = plt.figure(figsize=(7,7))\n",
      "ax1 = fig.add_subplot(111)  \n",
      "index = 60  \n",
      "ax1.plot(r[3:index],mu(ie[3:index]*1e-20*4.2545e10), color='purple')\n",
      "ax1.plot(rd1[3:55],mu(ied1[3:55]), color='orange') \n",
      "#ax1.plot(r[3:index],una_componente(r[3:index],popt[0]*1e-20*4.2545e10,popt[1],popt[2]), color='purple', linestyle='--')\n",
      "#ax1.plot(rd1[3:55],una_componente(rd1[3:55],poptd1[0],poptd1[1],poptd1[2]), color='orange', linestyle='--')\n",
      "ax1.legend(loc='upper left', frameon=False, scatterpoints=1,borderpad=0.3, labelspacing=0.2,handletextpad=0.1)\n",
      "xticks1 = ax1.xaxis.get_major_ticks()\n",
      "xticks1[0].label1.set_visible(False)\n",
      "xticks1[-1].label1.set_visible(False)\n",
      "ax1.set_xlabel('R [$Kpc$]')\n",
      "ax1.set_ylabel('$I_{e}$')\n",
      "\n",
      "#ax1.yaxis.set_major_formatter(NullFormatter())\n",
      "ax1.minorticks_on()\n",
      "    \n",
      "#--------------------------------------------------------------------------------------------------------\n",
      "\n",
      "\n",
      "plt.savefig('mues.pdf', format='pdf', dpi=1500,bbox_inches='tight')\n",
      "#plt.savefig('parametros_estructura_submuestra.eps', format='eps', dpi=1500,bbox_inches='tight')\n",
      "\n",
      "plt.show() "
     ],
     "language": "python",
     "metadata": {},
     "outputs": [],
     "prompt_number": 15
    },
    {
     "cell_type": "code",
     "collapsed": false,
     "input": [
      "#Plot parametros estructura 2\n",
      "fig = plt.figure(figsize=(7,7))\n",
      "ax1 = fig.add_subplot(111) \n",
      "ie2= ie[2:index]*1e-20\n",
      "r2 =  r[2:index]\n",
      "muaj = -2.5*np.log10(una_componente(r2,popt[0],popt[1],popt[2])/4.2545e10)-48.6 \n",
      "ax1.plot(r[2:index],-2.5*np.log10(ie2/4.2545e10)-48.6,\n",
      "         label='z=0 \\n $\\mu_{e}=$'+str(round(mue,2))+'\\n $r_{e}$='+str(round(re,2))+'\\n n='+str(round(n,2)) )   \n",
      "ax1.plot(r[1:index],muaj)\n",
      "ax1.legend(loc='upper right', frameon=False, scatterpoints=1,borderpad=0.3, labelspacing=0.2,handletextpad=0.1)\n",
      "#ax1.set_ylim(25,19)\n",
      "xticks1 = ax1.xaxis.get_major_ticks()\n",
      "xticks1[0].label1.set_visible(False)\n",
      "xticks1[-1].label1.set_visible(False)\n",
      "ax1.set_xlabel('R [$Kpc$]')\n",
      "ax1.set_ylabel('$\\mu$')\n",
      "\n",
      "#ax1.yaxis.set_major_formatter(NullFormatter())\n",
      "ax1.minorticks_on()\n",
      "\n",
      "#--------------------------------------------------------------------------------------------------------\n",
      "\n",
      "\n",
      "plt.savefig('mucharly.pdf', format='pdf', dpi=1500,bbox_inches='tight')\n",
      "#plt.savefig('parametros_estructura_submuestra.eps', format='eps', dpi=1500,bbox_inches='tight')\n",
      "\n",
      "plt.show() "
     ],
     "language": "python",
     "metadata": {},
     "outputs": [
      {
       "ename": "NameError",
       "evalue": "name 'una_componente' is not defined",
       "output_type": "pyerr",
       "traceback": [
        "\u001b[1;31m---------------------------------------------------------------------------\u001b[0m\n\u001b[1;31mNameError\u001b[0m                                 Traceback (most recent call last)",
        "\u001b[1;32m<ipython-input-32-30004d44a4af>\u001b[0m in \u001b[0;36m<module>\u001b[1;34m()\u001b[0m\n\u001b[0;32m      4\u001b[0m \u001b[0mie2\u001b[0m\u001b[1;33m=\u001b[0m \u001b[0mie\u001b[0m\u001b[1;33m[\u001b[0m\u001b[1;36m2\u001b[0m\u001b[1;33m:\u001b[0m\u001b[0mindex\u001b[0m\u001b[1;33m]\u001b[0m\u001b[1;33m*\u001b[0m\u001b[1;36m1e-20\u001b[0m\u001b[1;33m\u001b[0m\u001b[0m\n\u001b[0;32m      5\u001b[0m \u001b[0mr2\u001b[0m \u001b[1;33m=\u001b[0m  \u001b[0mr\u001b[0m\u001b[1;33m[\u001b[0m\u001b[1;36m2\u001b[0m\u001b[1;33m:\u001b[0m\u001b[0mindex\u001b[0m\u001b[1;33m]\u001b[0m\u001b[1;33m\u001b[0m\u001b[0m\n\u001b[1;32m----> 6\u001b[1;33m \u001b[0mmuaj\u001b[0m \u001b[1;33m=\u001b[0m \u001b[1;33m-\u001b[0m\u001b[1;36m2.5\u001b[0m\u001b[1;33m*\u001b[0m\u001b[0mnp\u001b[0m\u001b[1;33m.\u001b[0m\u001b[0mlog10\u001b[0m\u001b[1;33m(\u001b[0m\u001b[0muna_componente\u001b[0m\u001b[1;33m(\u001b[0m\u001b[0mr2\u001b[0m\u001b[1;33m,\u001b[0m\u001b[0mpopt\u001b[0m\u001b[1;33m[\u001b[0m\u001b[1;36m0\u001b[0m\u001b[1;33m]\u001b[0m\u001b[1;33m,\u001b[0m\u001b[0mpopt\u001b[0m\u001b[1;33m[\u001b[0m\u001b[1;36m1\u001b[0m\u001b[1;33m]\u001b[0m\u001b[1;33m,\u001b[0m\u001b[0mpopt\u001b[0m\u001b[1;33m[\u001b[0m\u001b[1;36m2\u001b[0m\u001b[1;33m]\u001b[0m\u001b[1;33m)\u001b[0m\u001b[1;33m/\u001b[0m\u001b[1;36m4.2545e10\u001b[0m\u001b[1;33m)\u001b[0m\u001b[1;33m-\u001b[0m\u001b[1;36m48.6\u001b[0m\u001b[1;33m\u001b[0m\u001b[0m\n\u001b[0m\u001b[0;32m      7\u001b[0m ax1.plot(r[2:index],-2.5*np.log10(ie2/4.2545e10)-48.6,\n\u001b[0;32m      8\u001b[0m          label='z=0 \\n $\\mu_{e}=$'+str(round(mue,2))+'\\n $r_{e}$='+str(round(re,2))+'\\n n='+str(round(n,2)) )   \n",
        "\u001b[1;31mNameError\u001b[0m: name 'una_componente' is not defined"
       ]
      }
     ],
     "prompt_number": 32
    },
    {
     "cell_type": "code",
     "collapsed": false,
     "input": [
      "#Dos componentes\n",
      "ajustes = open('ajuste_dos_componentes.txt','a')\n",
      "rmu24 = 127.35\n",
      "index = next(x[0] for x in enumerate(r) if x[1] > rmu24)    \n",
      "xdata = r[20:index]\n",
      "ydata = ie[20:index]\n",
      "popt, pcov = curve_fit(dos_componentes, xdata, ydata)\n",
      "\n",
      "#ajustes.write('{mue:9.3f} {re:9.3f} {n:9.3f} {errmue:9.3g} {errre:9.3g} {errn:9.3g}\\n'.\n",
      "#              format(mue=popt[0], re=popt[1], n=popt[2],errmue=pcov[0][0], errre=pcov[1][1], errn=pcov[2][2]))\n",
      "\n",
      "ajustes.close() "
     ],
     "language": "python",
     "metadata": {},
     "outputs": [],
     "prompt_number": 61
    },
    {
     "cell_type": "code",
     "collapsed": false,
     "input": [
      "#Plot parametros estructura 2\n",
      "fig = plt.figure(figsize=(7,7))\n",
      "ax1 = fig.add_subplot(111)  \n",
      "  \n",
      "ax1.plot(r[8:],ie[8:])   \n",
      "ax1.plot(r[10:index],dos_componentes(r[10:index],popt[0],popt[1],popt[2],popt[3],popt[4]))\n",
      "ax1.legend(loc='upper left', frameon=False, scatterpoints=1,borderpad=0.3, labelspacing=0.2,handletextpad=0.1)\n",
      "xticks1 = ax1.xaxis.get_major_ticks()\n",
      "xticks1[0].label1.set_visible(False)\n",
      "xticks1[-1].label1.set_visible(False)\n",
      "ax1.set_xlabel('R [$Kpc$]')\n",
      "ax1.set_ylabel('$I_{e}$')\n",
      "\n",
      "#ax1.yaxis.set_major_formatter(NullFormatter())\n",
      "ax1.minorticks_on()\n",
      "\n",
      "#--------------------------------------------------------------------------------------------------------\n",
      "\n",
      "\n",
      "plt.savefig('iecharly.pdf', format='pdf', dpi=1500,bbox_inches='tight')\n",
      "#plt.savefig('parametros_estructura_submuestra.eps', format='eps', dpi=1500,bbox_inches='tight')\n",
      "\n",
      "plt.show() "
     ],
     "language": "python",
     "metadata": {},
     "outputs": []
    },
    {
     "cell_type": "code",
     "collapsed": false,
     "input": [
      "popt"
     ],
     "language": "python",
     "metadata": {},
     "outputs": [
      {
       "metadata": {},
       "output_type": "pyout",
       "prompt_number": 9,
       "text": [
        "array([-0.03063886,  0.42151741])"
       ]
      }
     ],
     "prompt_number": 9
    },
    {
     "cell_type": "code",
     "collapsed": false,
     "input": [
      "plt.plot(r,np.exp(1/r))\n",
      "plt.plot(r,np.exp(1/r**0.5), color='r')\n",
      "plt.show()"
     ],
     "language": "python",
     "metadata": {},
     "outputs": [],
     "prompt_number": 35
    },
    {
     "cell_type": "code",
     "collapsed": false,
     "input": [
      "import glob\n",
      "snap  = '091'\n",
      "flav  = 'LR_minpot3_rmmax'\n",
      "reg   = '1'\n",
      "\n",
      "for name in glob.glob('/home/meugenia/0/LR/'+flav+'/inputs/D'+reg+'_'+flav+'_'+snap+'*NoDust.dat'):\n",
      "    print name\n",
      "    \n",
      "for name in glob.glob('/home/meugenia/0/LR/'+flav+'//D'+reg+'_'+flav+'_'+snap+'*NoDust.dat'):\n",
      "    print name    \n",
      "    \n",
      "#mass_prefix    = 'map_edgeon_zlos_250__fluxinband_'+bands[_band]+'_D'\n",
      "#pmass = [filename for filename in os.listdir(path_dir+'inputs') if filename.startswith('D'+str(_reg)+'_'+flav[_flav]+'_' + snap[_snap])]\n",
      "#pflux = [filename for filename in os.listdir(path_region2) if filename.startswith(mass_prefix+str(_reg)+'_'+flav[_flav]+'_'+snap[_snap])]\n",
      "\n"
     ],
     "language": "python",
     "metadata": {},
     "outputs": [
      {
       "output_type": "stream",
       "stream": "stdout",
       "text": [
        "/home/meugenia/0/LR/LR_minpot3_rmmax/inputs/D1_LR_minpot3_rmmax_091_sub0_L500kpc_NoDust.dat\n"
       ]
      }
     ],
     "prompt_number": 73
    },
    {
     "cell_type": "code",
     "collapsed": false,
     "input": [
      "snap  = '026'\n",
      "flav  = 'LR_minpot3_rmmax'\n",
      "reg   = '1'\n",
      "\n",
      "for path_mass in glob.glob('/home/meugenia/0/LR/'+flav+'/inputs/D'+reg+'_'+flav+'_'+snap+'*NoDust.dat'):\n",
      "    print path_mass"
     ],
     "language": "python",
     "metadata": {},
     "outputs": [
      {
       "output_type": "stream",
       "stream": "stdout",
       "text": [
        "/home/meugenia/0/LR/LR_minpot3_rmmax/inputs/D1_LR_minpot3_rmmax_026_sub0_L500kpc_NoDust.dat\n"
       ]
      }
     ],
     "prompt_number": 76
    },
    {
     "cell_type": "code",
     "collapsed": false,
     "input": [],
     "language": "python",
     "metadata": {},
     "outputs": []
    }
   ],
   "metadata": {}
  }
 ]
}